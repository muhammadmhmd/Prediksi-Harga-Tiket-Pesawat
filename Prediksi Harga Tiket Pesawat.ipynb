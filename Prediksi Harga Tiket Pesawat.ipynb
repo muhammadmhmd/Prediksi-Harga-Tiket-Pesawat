{
 "cells": [
  {
   "cell_type": "markdown",
   "id": "af955329",
   "metadata": {},
   "source": [
    "# Import Library"
   ]
  },
  {
   "cell_type": "code",
   "execution_count": 1,
   "id": "db93da7b",
   "metadata": {},
   "outputs": [],
   "source": [
    "# import library esensial\n",
    "import pandas as pd\n",
    "import numpy as np\n",
    "import seaborn as sns\n",
    "import matplotlib.pyplot as plt"
   ]
  },
  {
   "cell_type": "markdown",
   "id": "8fc654a4",
   "metadata": {},
   "source": [
    "# Loading Data"
   ]
  },
  {
   "cell_type": "code",
   "execution_count": 2,
   "id": "f114887f",
   "metadata": {},
   "outputs": [],
   "source": [
    "# buka dataset dan simpan dalam dataframe\n",
    "train_data = pd.read_excel('Data_Train.xlsx')"
   ]
  },
  {
   "cell_type": "code",
   "execution_count": 3,
   "id": "62288149",
   "metadata": {
    "scrolled": true
   },
   "outputs": [
    {
     "data": {
      "text/html": [
       "<div>\n",
       "<style scoped>\n",
       "    .dataframe tbody tr th:only-of-type {\n",
       "        vertical-align: middle;\n",
       "    }\n",
       "\n",
       "    .dataframe tbody tr th {\n",
       "        vertical-align: top;\n",
       "    }\n",
       "\n",
       "    .dataframe thead th {\n",
       "        text-align: right;\n",
       "    }\n",
       "</style>\n",
       "<table border=\"1\" class=\"dataframe\">\n",
       "  <thead>\n",
       "    <tr style=\"text-align: right;\">\n",
       "      <th></th>\n",
       "      <th>Airline</th>\n",
       "      <th>Date_of_Journey</th>\n",
       "      <th>Source</th>\n",
       "      <th>Destination</th>\n",
       "      <th>Route</th>\n",
       "      <th>Dep_Time</th>\n",
       "      <th>Arrival_Time</th>\n",
       "      <th>Duration</th>\n",
       "      <th>Total_Stops</th>\n",
       "      <th>Additional_Info</th>\n",
       "      <th>Price</th>\n",
       "    </tr>\n",
       "  </thead>\n",
       "  <tbody>\n",
       "    <tr>\n",
       "      <th>0</th>\n",
       "      <td>IndiGo</td>\n",
       "      <td>24/03/2019</td>\n",
       "      <td>Banglore</td>\n",
       "      <td>New Delhi</td>\n",
       "      <td>BLR → DEL</td>\n",
       "      <td>22:20</td>\n",
       "      <td>01:10 22 Mar</td>\n",
       "      <td>2h 50m</td>\n",
       "      <td>non-stop</td>\n",
       "      <td>No info</td>\n",
       "      <td>3897</td>\n",
       "    </tr>\n",
       "    <tr>\n",
       "      <th>1</th>\n",
       "      <td>Air India</td>\n",
       "      <td>1/05/2019</td>\n",
       "      <td>Kolkata</td>\n",
       "      <td>Banglore</td>\n",
       "      <td>CCU → IXR → BBI → BLR</td>\n",
       "      <td>05:50</td>\n",
       "      <td>13:15</td>\n",
       "      <td>7h 25m</td>\n",
       "      <td>2 stops</td>\n",
       "      <td>No info</td>\n",
       "      <td>7662</td>\n",
       "    </tr>\n",
       "    <tr>\n",
       "      <th>2</th>\n",
       "      <td>Jet Airways</td>\n",
       "      <td>9/06/2019</td>\n",
       "      <td>Delhi</td>\n",
       "      <td>Cochin</td>\n",
       "      <td>DEL → LKO → BOM → COK</td>\n",
       "      <td>09:25</td>\n",
       "      <td>04:25 10 Jun</td>\n",
       "      <td>19h</td>\n",
       "      <td>2 stops</td>\n",
       "      <td>No info</td>\n",
       "      <td>13882</td>\n",
       "    </tr>\n",
       "    <tr>\n",
       "      <th>3</th>\n",
       "      <td>IndiGo</td>\n",
       "      <td>12/05/2019</td>\n",
       "      <td>Kolkata</td>\n",
       "      <td>Banglore</td>\n",
       "      <td>CCU → NAG → BLR</td>\n",
       "      <td>18:05</td>\n",
       "      <td>23:30</td>\n",
       "      <td>5h 25m</td>\n",
       "      <td>1 stop</td>\n",
       "      <td>No info</td>\n",
       "      <td>6218</td>\n",
       "    </tr>\n",
       "    <tr>\n",
       "      <th>4</th>\n",
       "      <td>IndiGo</td>\n",
       "      <td>01/03/2019</td>\n",
       "      <td>Banglore</td>\n",
       "      <td>New Delhi</td>\n",
       "      <td>BLR → NAG → DEL</td>\n",
       "      <td>16:50</td>\n",
       "      <td>21:35</td>\n",
       "      <td>4h 45m</td>\n",
       "      <td>1 stop</td>\n",
       "      <td>No info</td>\n",
       "      <td>13302</td>\n",
       "    </tr>\n",
       "  </tbody>\n",
       "</table>\n",
       "</div>"
      ],
      "text/plain": [
       "       Airline Date_of_Journey    Source Destination                  Route  \\\n",
       "0       IndiGo      24/03/2019  Banglore   New Delhi              BLR → DEL   \n",
       "1    Air India       1/05/2019   Kolkata    Banglore  CCU → IXR → BBI → BLR   \n",
       "2  Jet Airways       9/06/2019     Delhi      Cochin  DEL → LKO → BOM → COK   \n",
       "3       IndiGo      12/05/2019   Kolkata    Banglore        CCU → NAG → BLR   \n",
       "4       IndiGo      01/03/2019  Banglore   New Delhi        BLR → NAG → DEL   \n",
       "\n",
       "  Dep_Time  Arrival_Time Duration Total_Stops Additional_Info  Price  \n",
       "0    22:20  01:10 22 Mar   2h 50m    non-stop         No info   3897  \n",
       "1    05:50         13:15   7h 25m     2 stops         No info   7662  \n",
       "2    09:25  04:25 10 Jun      19h     2 stops         No info  13882  \n",
       "3    18:05         23:30   5h 25m      1 stop         No info   6218  \n",
       "4    16:50         21:35   4h 45m      1 stop         No info  13302  "
      ]
     },
     "execution_count": 3,
     "metadata": {},
     "output_type": "execute_result"
    }
   ],
   "source": [
    "# menampilkan data awal train_data\n",
    "train_data.head()"
   ]
  },
  {
   "cell_type": "code",
   "execution_count": 4,
   "id": "44aa657f",
   "metadata": {},
   "outputs": [
    {
     "name": "stdout",
     "output_type": "stream",
     "text": [
      "<class 'pandas.core.frame.DataFrame'>\n",
      "RangeIndex: 10683 entries, 0 to 10682\n",
      "Data columns (total 11 columns):\n",
      " #   Column           Non-Null Count  Dtype \n",
      "---  ------           --------------  ----- \n",
      " 0   Airline          10683 non-null  object\n",
      " 1   Date_of_Journey  10683 non-null  object\n",
      " 2   Source           10683 non-null  object\n",
      " 3   Destination      10683 non-null  object\n",
      " 4   Route            10682 non-null  object\n",
      " 5   Dep_Time         10683 non-null  object\n",
      " 6   Arrival_Time     10683 non-null  object\n",
      " 7   Duration         10683 non-null  object\n",
      " 8   Total_Stops      10682 non-null  object\n",
      " 9   Additional_Info  10683 non-null  object\n",
      " 10  Price            10683 non-null  int64 \n",
      "dtypes: int64(1), object(10)\n",
      "memory usage: 918.2+ KB\n"
     ]
    }
   ],
   "source": [
    "# menampilkan informasi dari data\n",
    "train_data.info()"
   ]
  },
  {
   "cell_type": "markdown",
   "id": "793be2dd",
   "metadata": {},
   "source": [
    "# Data Preparation\n",
    "Data yang didapat tidak selalu dapat langsung diproses, hal ini dapat disebabkan seperti data yang tidak lengkap, tidak konsisten, dan terdapat noise (data error atau outlier). Sehingga perlu dilakukan tahap pra pemrosesan data agar data dapat melakukan analisis serta mengetahui informasi apa saja yang dapat digunakan dalam pembuatan model \n",
    "\n",
    "## Data Cleaning\n",
    "Data cleaning atau pembersihan data dapat dilakukan dengan mengatasi missing value atau nilai hilang (Null). Missing value dapat diatasi dengan mengisi data dengan mean, median, dan modus. Jika hanya terdapat sedikit nilai missing value, dapat dilakukan menghapus nilai tersebut"
   ]
  },
  {
   "cell_type": "code",
   "execution_count": 5,
   "id": "d9fc6ea7",
   "metadata": {},
   "outputs": [
    {
     "data": {
      "text/plain": [
       "Airline            0\n",
       "Date_of_Journey    0\n",
       "Source             0\n",
       "Destination        0\n",
       "Route              1\n",
       "Dep_Time           0\n",
       "Arrival_Time       0\n",
       "Duration           0\n",
       "Total_Stops        1\n",
       "Additional_Info    0\n",
       "Price              0\n",
       "dtype: int64"
      ]
     },
     "execution_count": 5,
     "metadata": {},
     "output_type": "execute_result"
    }
   ],
   "source": [
    "# cek data kosong\n",
    "train_data.isna().sum()"
   ]
  },
  {
   "cell_type": "markdown",
   "id": "fc9557f1",
   "metadata": {},
   "source": [
    "Hasil pengecekan menunjukan bahwa hanya terdapat 1 data missing value di kolom 'Route' dan 'Total_Stops' sehingga dapat dilakukan penghapusan saja"
   ]
  },
  {
   "cell_type": "code",
   "execution_count": 6,
   "id": "a730e118",
   "metadata": {},
   "outputs": [],
   "source": [
    "# menghapus data kosong\n",
    "train_data.dropna(inplace=True)"
   ]
  },
  {
   "cell_type": "code",
   "execution_count": 7,
   "id": "d6966b60",
   "metadata": {},
   "outputs": [
    {
     "data": {
      "text/plain": [
       "Airline            0\n",
       "Date_of_Journey    0\n",
       "Source             0\n",
       "Destination        0\n",
       "Route              0\n",
       "Dep_Time           0\n",
       "Arrival_Time       0\n",
       "Duration           0\n",
       "Total_Stops        0\n",
       "Additional_Info    0\n",
       "Price              0\n",
       "dtype: int64"
      ]
     },
     "execution_count": 7,
     "metadata": {},
     "output_type": "execute_result"
    }
   ],
   "source": [
    "# cek data kosong kembali\n",
    "train_data.isna().sum()"
   ]
  },
  {
   "cell_type": "markdown",
   "id": "eb0bb2b4",
   "metadata": {},
   "source": [
    "## Data Transformation dan Data Insight\n",
    "Data transformation adalah metode untuk mengkonversi data awal menjadi data yang dapat digunakan. Sebelum melakukan transformasi perlu dilakukan pengecekan tipe data terlebih dahulu untuk mengetahui tipe data apa saja yang kita terima dalam \n",
    "suatu data. Model machine learning melakukan proses berdasarkan matematika yang membutuhkan variabel independen dan dependen. variabel independen (juga disebut sebagai Fitur) adalah input untuk proses yang sedang dianalisis. Variabel dependen adalah output dari proses. Pada umumnya bentuk data diklasifikasi menjadi dua yaitu kategorik dan numerik,  sehingga data perlu dikoneversi menjadi bentuk numerik. untuk memudahkan konversi, data dapat dipisah menjadi kategorik dan numerik."
   ]
  },
  {
   "cell_type": "code",
   "execution_count": 8,
   "id": "e1f759ae",
   "metadata": {},
   "outputs": [
    {
     "data": {
      "text/plain": [
       "Index(['Airline', 'Date_of_Journey', 'Source', 'Destination', 'Route',\n",
       "       'Dep_Time', 'Arrival_Time', 'Duration', 'Total_Stops',\n",
       "       'Additional_Info', 'Price'],\n",
       "      dtype='object')"
      ]
     },
     "execution_count": 8,
     "metadata": {},
     "output_type": "execute_result"
    }
   ],
   "source": [
    "# cek nama kolom\n",
    "train_data.columns"
   ]
  },
  {
   "cell_type": "code",
   "execution_count": 9,
   "id": "cf7e01a5",
   "metadata": {
    "scrolled": false
   },
   "outputs": [
    {
     "data": {
      "text/plain": [
       "Airline            object\n",
       "Date_of_Journey    object\n",
       "Source             object\n",
       "Destination        object\n",
       "Route              object\n",
       "Dep_Time           object\n",
       "Arrival_Time       object\n",
       "Duration           object\n",
       "Total_Stops        object\n",
       "Additional_Info    object\n",
       "Price               int64\n",
       "dtype: object"
      ]
     },
     "execution_count": 9,
     "metadata": {},
     "output_type": "execute_result"
    }
   ],
   "source": [
    "# cek tipe data\n",
    "train_data.dtypes"
   ]
  },
  {
   "cell_type": "markdown",
   "id": "f6c710a2",
   "metadata": {},
   "source": [
    "### Numeric Data\n",
    "Dari informasi diatas hanya kolom 'Price' dengan tipe integer dan kolom lainya memiliki tipe object. Kolom tanggal seperti 'Date_of_Journey','Dep_Time', dan 'Arrival_Time' pada dasarnya adalah format date-time, sehingga dapat ditransformasi menjadi date-time yang dimana tipe data tersebut dapat urai menjadi numerik."
   ]
  },
  {
   "cell_type": "code",
   "execution_count": 10,
   "id": "3f135dbc",
   "metadata": {},
   "outputs": [],
   "source": [
    "# membuat variabel baru Duration untuk memudahkan\n",
    "# mengubah waktu('Date_of_Journey','Dep_Time', 'Arrival_Time') ke format date time\n",
    "col_num = pd.DataFrame()\n",
    "for i in ['Date_of_Journey','Dep_Time', 'Arrival_Time']:\n",
    "    col_num[i] = pd.to_datetime(train_data[i])"
   ]
  },
  {
   "cell_type": "code",
   "execution_count": 11,
   "id": "50e617e4",
   "metadata": {
    "scrolled": true
   },
   "outputs": [
    {
     "name": "stdout",
     "output_type": "stream",
     "text": [
      "Date_of_Journey    datetime64[ns]\n",
      "Dep_Time           datetime64[ns]\n",
      "Arrival_Time       datetime64[ns]\n",
      "dtype: object\n"
     ]
    },
    {
     "data": {
      "text/html": [
       "<div>\n",
       "<style scoped>\n",
       "    .dataframe tbody tr th:only-of-type {\n",
       "        vertical-align: middle;\n",
       "    }\n",
       "\n",
       "    .dataframe tbody tr th {\n",
       "        vertical-align: top;\n",
       "    }\n",
       "\n",
       "    .dataframe thead th {\n",
       "        text-align: right;\n",
       "    }\n",
       "</style>\n",
       "<table border=\"1\" class=\"dataframe\">\n",
       "  <thead>\n",
       "    <tr style=\"text-align: right;\">\n",
       "      <th></th>\n",
       "      <th>Date_of_Journey</th>\n",
       "      <th>Dep_Time</th>\n",
       "      <th>Arrival_Time</th>\n",
       "    </tr>\n",
       "  </thead>\n",
       "  <tbody>\n",
       "    <tr>\n",
       "      <th>0</th>\n",
       "      <td>2019-03-24</td>\n",
       "      <td>2022-02-13 22:20:00</td>\n",
       "      <td>2022-03-22 01:10:00</td>\n",
       "    </tr>\n",
       "    <tr>\n",
       "      <th>1</th>\n",
       "      <td>2019-01-05</td>\n",
       "      <td>2022-02-13 05:50:00</td>\n",
       "      <td>2022-02-13 13:15:00</td>\n",
       "    </tr>\n",
       "    <tr>\n",
       "      <th>2</th>\n",
       "      <td>2019-09-06</td>\n",
       "      <td>2022-02-13 09:25:00</td>\n",
       "      <td>2022-06-10 04:25:00</td>\n",
       "    </tr>\n",
       "    <tr>\n",
       "      <th>3</th>\n",
       "      <td>2019-12-05</td>\n",
       "      <td>2022-02-13 18:05:00</td>\n",
       "      <td>2022-02-13 23:30:00</td>\n",
       "    </tr>\n",
       "    <tr>\n",
       "      <th>4</th>\n",
       "      <td>2019-01-03</td>\n",
       "      <td>2022-02-13 16:50:00</td>\n",
       "      <td>2022-02-13 21:35:00</td>\n",
       "    </tr>\n",
       "  </tbody>\n",
       "</table>\n",
       "</div>"
      ],
      "text/plain": [
       "  Date_of_Journey            Dep_Time        Arrival_Time\n",
       "0      2019-03-24 2022-02-13 22:20:00 2022-03-22 01:10:00\n",
       "1      2019-01-05 2022-02-13 05:50:00 2022-02-13 13:15:00\n",
       "2      2019-09-06 2022-02-13 09:25:00 2022-06-10 04:25:00\n",
       "3      2019-12-05 2022-02-13 18:05:00 2022-02-13 23:30:00\n",
       "4      2019-01-03 2022-02-13 16:50:00 2022-02-13 21:35:00"
      ]
     },
     "execution_count": 11,
     "metadata": {},
     "output_type": "execute_result"
    }
   ],
   "source": [
    "# cek kembali tipe data\n",
    "print(col_num.dtypes)\n",
    "col_num.head()"
   ]
  },
  {
   "cell_type": "code",
   "execution_count": 12,
   "id": "dc810fbd",
   "metadata": {
    "scrolled": true
   },
   "outputs": [
    {
     "data": {
      "text/plain": [
       "2019    10682\n",
       "Name: Date_of_Journey, dtype: int64"
      ]
     },
     "execution_count": 12,
     "metadata": {},
     "output_type": "execute_result"
    }
   ],
   "source": [
    "# cek tahun penerbangan\n",
    "col_num['Date_of_Journey'].dt.year.value_counts()"
   ]
  },
  {
   "cell_type": "code",
   "execution_count": 13,
   "id": "c292a390",
   "metadata": {
    "scrolled": false
   },
   "outputs": [
    {
     "data": {
      "text/plain": [
       "2022    10682\n",
       "Name: Arrival_Time, dtype: int64"
      ]
     },
     "execution_count": 13,
     "metadata": {},
     "output_type": "execute_result"
    }
   ],
   "source": [
    "# cek tahun kedatangan penerbangan\n",
    "col_num['Arrival_Time'].dt.year.value_counts()"
   ]
  },
  {
   "cell_type": "markdown",
   "id": "9ad47574",
   "metadata": {},
   "source": [
    "\n",
    "Dari tipe data datetime, informasi waktu (tahun, bulan, tanggal, dll) dapat diurai lebih mudah. Tujuan mengurai informasi waktu mejadi terpisah antara lain memudahkan model untuk membaca data.\n",
    "\n",
    "Perubahan format datetime menybebabkan penambahan data waktu yang tidak lengkap dengan data waktu perintah dijalankan secara otomatis. Data menunjukan bahwa penerbangan hanya dilakukan di tahun 2019 dan tidak ada kedatangan penerbangan diatas 2019, Sehingga data tahun dapat diabaikan dan hanya mengurai data bulan dan hari.\n",
    "\n",
    "'Date_of_Journey' dapat diurai menjadi hari ('journey_day') dan bulan keberangkatan ('journey_month') sedangkan untuk 'Dep_Time' dan 'Arrival_Time' dapat diurai menjadi menit dan jam. Kemudian kolom utama dapat dihapus"
   ]
  },
  {
   "cell_type": "code",
   "execution_count": 14,
   "id": "bdcb9374",
   "metadata": {},
   "outputs": [],
   "source": [
    "# memisahkan hari dan bulan di 'Date_of_Journey'\n",
    "# membuat kolom baru dari hari dan bulan 'Date_of_Journey'\n",
    "col_num['journey_day'] = col_num['Date_of_Journey'].dt.day\n",
    "col_num['journey_month'] = col_num['Date_of_Journey'].dt.month"
   ]
  },
  {
   "cell_type": "code",
   "execution_count": 15,
   "id": "d4c255a7",
   "metadata": {},
   "outputs": [],
   "source": [
    "# menghapus 'Date_of_Journey'\n",
    "col_num.drop('Date_of_Journey', axis = 1, inplace = True)"
   ]
  },
  {
   "cell_type": "code",
   "execution_count": 16,
   "id": "86385e47",
   "metadata": {},
   "outputs": [],
   "source": [
    "# memisahkan jam dan menit di 'Dep_Time' dan 'Arrival_Time'\n",
    "# membuat kolom baru dari jam dan menit'Dep_Time' dan 'Arrival_Time'\n",
    "for i in ['Dep_Time', 'Arrival_Time']:\n",
    "    col_num[i+'_hour'] = col_num[i].dt.hour\n",
    "    col_num[i+'_minute'] = col_num[i].dt.minute\n",
    "    col_num.drop(i,axis = 1, inplace = True)"
   ]
  },
  {
   "cell_type": "code",
   "execution_count": 17,
   "id": "dd0720b3",
   "metadata": {
    "scrolled": false
   },
   "outputs": [
    {
     "data": {
      "text/html": [
       "<div>\n",
       "<style scoped>\n",
       "    .dataframe tbody tr th:only-of-type {\n",
       "        vertical-align: middle;\n",
       "    }\n",
       "\n",
       "    .dataframe tbody tr th {\n",
       "        vertical-align: top;\n",
       "    }\n",
       "\n",
       "    .dataframe thead th {\n",
       "        text-align: right;\n",
       "    }\n",
       "</style>\n",
       "<table border=\"1\" class=\"dataframe\">\n",
       "  <thead>\n",
       "    <tr style=\"text-align: right;\">\n",
       "      <th></th>\n",
       "      <th>journey_day</th>\n",
       "      <th>journey_month</th>\n",
       "      <th>Dep_Time_hour</th>\n",
       "      <th>Dep_Time_minute</th>\n",
       "      <th>Arrival_Time_hour</th>\n",
       "      <th>Arrival_Time_minute</th>\n",
       "    </tr>\n",
       "  </thead>\n",
       "  <tbody>\n",
       "    <tr>\n",
       "      <th>0</th>\n",
       "      <td>24</td>\n",
       "      <td>3</td>\n",
       "      <td>22</td>\n",
       "      <td>20</td>\n",
       "      <td>1</td>\n",
       "      <td>10</td>\n",
       "    </tr>\n",
       "    <tr>\n",
       "      <th>1</th>\n",
       "      <td>5</td>\n",
       "      <td>1</td>\n",
       "      <td>5</td>\n",
       "      <td>50</td>\n",
       "      <td>13</td>\n",
       "      <td>15</td>\n",
       "    </tr>\n",
       "    <tr>\n",
       "      <th>2</th>\n",
       "      <td>6</td>\n",
       "      <td>9</td>\n",
       "      <td>9</td>\n",
       "      <td>25</td>\n",
       "      <td>4</td>\n",
       "      <td>25</td>\n",
       "    </tr>\n",
       "    <tr>\n",
       "      <th>3</th>\n",
       "      <td>5</td>\n",
       "      <td>12</td>\n",
       "      <td>18</td>\n",
       "      <td>5</td>\n",
       "      <td>23</td>\n",
       "      <td>30</td>\n",
       "    </tr>\n",
       "    <tr>\n",
       "      <th>4</th>\n",
       "      <td>3</td>\n",
       "      <td>1</td>\n",
       "      <td>16</td>\n",
       "      <td>50</td>\n",
       "      <td>21</td>\n",
       "      <td>35</td>\n",
       "    </tr>\n",
       "  </tbody>\n",
       "</table>\n",
       "</div>"
      ],
      "text/plain": [
       "   journey_day  journey_month  Dep_Time_hour  Dep_Time_minute  \\\n",
       "0           24              3             22               20   \n",
       "1            5              1              5               50   \n",
       "2            6              9              9               25   \n",
       "3            5             12             18                5   \n",
       "4            3              1             16               50   \n",
       "\n",
       "   Arrival_Time_hour  Arrival_Time_minute  \n",
       "0                  1                   10  \n",
       "1                 13                   15  \n",
       "2                  4                   25  \n",
       "3                 23                   30  \n",
       "4                 21                   35  "
      ]
     },
     "execution_count": 17,
     "metadata": {},
     "output_type": "execute_result"
    }
   ],
   "source": [
    "col_num.head()"
   ]
  },
  {
   "cell_type": "code",
   "execution_count": 18,
   "id": "c083fddc",
   "metadata": {
    "scrolled": true
   },
   "outputs": [
    {
     "data": {
      "text/plain": [
       "journey_day            int64\n",
       "journey_month          int64\n",
       "Dep_Time_hour          int64\n",
       "Dep_Time_minute        int64\n",
       "Arrival_Time_hour      int64\n",
       "Arrival_Time_minute    int64\n",
       "dtype: object"
      ]
     },
     "execution_count": 18,
     "metadata": {},
     "output_type": "execute_result"
    }
   ],
   "source": [
    "col_num.dtypes"
   ]
  },
  {
   "cell_type": "markdown",
   "id": "878392a9",
   "metadata": {},
   "source": [
    "Dari data sudah terdapat kolom durasi penerbangan sehinga tidak perlu menghitung dari waktu kedatangan dan keberangkatan. Data **'Duration'** dapat kita urai menjadi jam dan menit, tetapi data tersebut masih memiliki data yang tidak konsisten, ada yang hanya memiliki h atau m saja atau memiliki keduanya. Untuk dapat mengurai informasi waktu dari kolom **'Duration'** terlebih dahulu menyamakan format dari durasi sehingga semua data memiliki format -h -m"
   ]
  },
  {
   "cell_type": "code",
   "execution_count": 19,
   "id": "80981263",
   "metadata": {},
   "outputs": [],
   "source": [
    "# mengubah format 'Duration' menjadi -h -m \n",
    "duration = list(train_data['Duration'])\n",
    "for i in range(len(duration)):\n",
    "    if len(duration[i].split(' ')) != 2:\n",
    "        if 'h' in duration[i]:\n",
    "            duration[i] = duration[i] + ' 0m'\n",
    "        else:\n",
    "            duration[i] = '0h ' + duration[i]"
   ]
  },
  {
   "cell_type": "code",
   "execution_count": 20,
   "id": "d59ce6bf",
   "metadata": {},
   "outputs": [],
   "source": [
    "col_num['Duration'] = duration"
   ]
  },
  {
   "cell_type": "code",
   "execution_count": 21,
   "id": "252249b2",
   "metadata": {
    "scrolled": true
   },
   "outputs": [
    {
     "data": {
      "text/html": [
       "<div>\n",
       "<style scoped>\n",
       "    .dataframe tbody tr th:only-of-type {\n",
       "        vertical-align: middle;\n",
       "    }\n",
       "\n",
       "    .dataframe tbody tr th {\n",
       "        vertical-align: top;\n",
       "    }\n",
       "\n",
       "    .dataframe thead th {\n",
       "        text-align: right;\n",
       "    }\n",
       "</style>\n",
       "<table border=\"1\" class=\"dataframe\">\n",
       "  <thead>\n",
       "    <tr style=\"text-align: right;\">\n",
       "      <th></th>\n",
       "      <th>journey_day</th>\n",
       "      <th>journey_month</th>\n",
       "      <th>Dep_Time_hour</th>\n",
       "      <th>Dep_Time_minute</th>\n",
       "      <th>Arrival_Time_hour</th>\n",
       "      <th>Arrival_Time_minute</th>\n",
       "      <th>Duration</th>\n",
       "    </tr>\n",
       "  </thead>\n",
       "  <tbody>\n",
       "    <tr>\n",
       "      <th>0</th>\n",
       "      <td>24</td>\n",
       "      <td>3</td>\n",
       "      <td>22</td>\n",
       "      <td>20</td>\n",
       "      <td>1</td>\n",
       "      <td>10</td>\n",
       "      <td>2h 50m</td>\n",
       "    </tr>\n",
       "    <tr>\n",
       "      <th>1</th>\n",
       "      <td>5</td>\n",
       "      <td>1</td>\n",
       "      <td>5</td>\n",
       "      <td>50</td>\n",
       "      <td>13</td>\n",
       "      <td>15</td>\n",
       "      <td>7h 25m</td>\n",
       "    </tr>\n",
       "    <tr>\n",
       "      <th>2</th>\n",
       "      <td>6</td>\n",
       "      <td>9</td>\n",
       "      <td>9</td>\n",
       "      <td>25</td>\n",
       "      <td>4</td>\n",
       "      <td>25</td>\n",
       "      <td>19h 0m</td>\n",
       "    </tr>\n",
       "    <tr>\n",
       "      <th>3</th>\n",
       "      <td>5</td>\n",
       "      <td>12</td>\n",
       "      <td>18</td>\n",
       "      <td>5</td>\n",
       "      <td>23</td>\n",
       "      <td>30</td>\n",
       "      <td>5h 25m</td>\n",
       "    </tr>\n",
       "    <tr>\n",
       "      <th>4</th>\n",
       "      <td>3</td>\n",
       "      <td>1</td>\n",
       "      <td>16</td>\n",
       "      <td>50</td>\n",
       "      <td>21</td>\n",
       "      <td>35</td>\n",
       "      <td>4h 45m</td>\n",
       "    </tr>\n",
       "  </tbody>\n",
       "</table>\n",
       "</div>"
      ],
      "text/plain": [
       "   journey_day  journey_month  Dep_Time_hour  Dep_Time_minute  \\\n",
       "0           24              3             22               20   \n",
       "1            5              1              5               50   \n",
       "2            6              9              9               25   \n",
       "3            5             12             18                5   \n",
       "4            3              1             16               50   \n",
       "\n",
       "   Arrival_Time_hour  Arrival_Time_minute Duration  \n",
       "0                  1                   10   2h 50m  \n",
       "1                 13                   15   7h 25m  \n",
       "2                  4                   25   19h 0m  \n",
       "3                 23                   30   5h 25m  \n",
       "4                 21                   35   4h 45m  "
      ]
     },
     "execution_count": 21,
     "metadata": {},
     "output_type": "execute_result"
    }
   ],
   "source": [
    "col_num.head()"
   ]
  },
  {
   "cell_type": "markdown",
   "id": "b164c6a2",
   "metadata": {},
   "source": [
    "Setelah format disesuaikan, dapat diurai informasi durasi jam dan menit dan dibuat kolom baru"
   ]
  },
  {
   "cell_type": "code",
   "execution_count": 22,
   "id": "9d0d6592",
   "metadata": {},
   "outputs": [],
   "source": [
    "# membuat function memsiahkan jam dan menit di 'Duration'\n",
    "def hour(x):\n",
    "    return x.split(' ')[0][0:-1]\n",
    "def minute(x):\n",
    "    return x.split(' ')[1][0:-1]"
   ]
  },
  {
   "cell_type": "code",
   "execution_count": 23,
   "id": "5604e4fd",
   "metadata": {},
   "outputs": [],
   "source": [
    "# memisahkan dan membuat kolom baru dari jam dan menit 'Duration'\n",
    "col_num[\"Duration_hour\"] = col_num['Duration'].apply(hour)\n",
    "col_num[\"Duration_minute\"] = col_num['Duration'].apply(minute)\n"
   ]
  },
  {
   "cell_type": "code",
   "execution_count": 24,
   "id": "2a795e42",
   "metadata": {},
   "outputs": [],
   "source": [
    "# menghapus 'Duration'\n",
    "col_num.drop('Duration', axis = 1, inplace = True)"
   ]
  },
  {
   "cell_type": "code",
   "execution_count": 25,
   "id": "3287bf93",
   "metadata": {
    "scrolled": false
   },
   "outputs": [
    {
     "data": {
      "text/plain": [
       "journey_day             int64\n",
       "journey_month           int64\n",
       "Dep_Time_hour           int64\n",
       "Dep_Time_minute         int64\n",
       "Arrival_Time_hour       int64\n",
       "Arrival_Time_minute     int64\n",
       "Duration_hour          object\n",
       "Duration_minute        object\n",
       "dtype: object"
      ]
     },
     "execution_count": 25,
     "metadata": {},
     "output_type": "execute_result"
    }
   ],
   "source": [
    "col_num.dtypes"
   ]
  },
  {
   "cell_type": "markdown",
   "id": "ee28e538",
   "metadata": {},
   "source": [
    "Setalah dilakukan pengcekan tipe data kembali, jam dan menit durasi masih bertipe object, sehingga kita perlu konversi menjadi integer"
   ]
  },
  {
   "cell_type": "code",
   "execution_count": 26,
   "id": "1d93e1e8",
   "metadata": {},
   "outputs": [],
   "source": [
    "# mengubah data jam dan menit durasi menjadi integer\n",
    "col_num['Duration_hour'] = col_num['Duration_hour'].astype(int)\n",
    "col_num['Duration_minute'] = col_num['Duration_minute'].astype(int)"
   ]
  },
  {
   "cell_type": "code",
   "execution_count": 27,
   "id": "00e0fd21",
   "metadata": {
    "scrolled": true
   },
   "outputs": [
    {
     "data": {
      "text/plain": [
       "journey_day            int64\n",
       "journey_month          int64\n",
       "Dep_Time_hour          int64\n",
       "Dep_Time_minute        int64\n",
       "Arrival_Time_hour      int64\n",
       "Arrival_Time_minute    int64\n",
       "Duration_hour          int32\n",
       "Duration_minute        int32\n",
       "dtype: object"
      ]
     },
     "execution_count": 27,
     "metadata": {},
     "output_type": "execute_result"
    }
   ],
   "source": [
    "col_num.dtypes"
   ]
  },
  {
   "cell_type": "code",
   "execution_count": 28,
   "id": "02fd07b2",
   "metadata": {
    "scrolled": true
   },
   "outputs": [
    {
     "data": {
      "text/html": [
       "<div>\n",
       "<style scoped>\n",
       "    .dataframe tbody tr th:only-of-type {\n",
       "        vertical-align: middle;\n",
       "    }\n",
       "\n",
       "    .dataframe tbody tr th {\n",
       "        vertical-align: top;\n",
       "    }\n",
       "\n",
       "    .dataframe thead th {\n",
       "        text-align: right;\n",
       "    }\n",
       "</style>\n",
       "<table border=\"1\" class=\"dataframe\">\n",
       "  <thead>\n",
       "    <tr style=\"text-align: right;\">\n",
       "      <th></th>\n",
       "      <th>journey_day</th>\n",
       "      <th>journey_month</th>\n",
       "      <th>Dep_Time_hour</th>\n",
       "      <th>Dep_Time_minute</th>\n",
       "      <th>Arrival_Time_hour</th>\n",
       "      <th>Arrival_Time_minute</th>\n",
       "      <th>Duration_hour</th>\n",
       "      <th>Duration_minute</th>\n",
       "    </tr>\n",
       "  </thead>\n",
       "  <tbody>\n",
       "    <tr>\n",
       "      <th>0</th>\n",
       "      <td>24</td>\n",
       "      <td>3</td>\n",
       "      <td>22</td>\n",
       "      <td>20</td>\n",
       "      <td>1</td>\n",
       "      <td>10</td>\n",
       "      <td>2</td>\n",
       "      <td>50</td>\n",
       "    </tr>\n",
       "    <tr>\n",
       "      <th>1</th>\n",
       "      <td>5</td>\n",
       "      <td>1</td>\n",
       "      <td>5</td>\n",
       "      <td>50</td>\n",
       "      <td>13</td>\n",
       "      <td>15</td>\n",
       "      <td>7</td>\n",
       "      <td>25</td>\n",
       "    </tr>\n",
       "    <tr>\n",
       "      <th>2</th>\n",
       "      <td>6</td>\n",
       "      <td>9</td>\n",
       "      <td>9</td>\n",
       "      <td>25</td>\n",
       "      <td>4</td>\n",
       "      <td>25</td>\n",
       "      <td>19</td>\n",
       "      <td>0</td>\n",
       "    </tr>\n",
       "    <tr>\n",
       "      <th>3</th>\n",
       "      <td>5</td>\n",
       "      <td>12</td>\n",
       "      <td>18</td>\n",
       "      <td>5</td>\n",
       "      <td>23</td>\n",
       "      <td>30</td>\n",
       "      <td>5</td>\n",
       "      <td>25</td>\n",
       "    </tr>\n",
       "    <tr>\n",
       "      <th>4</th>\n",
       "      <td>3</td>\n",
       "      <td>1</td>\n",
       "      <td>16</td>\n",
       "      <td>50</td>\n",
       "      <td>21</td>\n",
       "      <td>35</td>\n",
       "      <td>4</td>\n",
       "      <td>45</td>\n",
       "    </tr>\n",
       "  </tbody>\n",
       "</table>\n",
       "</div>"
      ],
      "text/plain": [
       "   journey_day  journey_month  Dep_Time_hour  Dep_Time_minute  \\\n",
       "0           24              3             22               20   \n",
       "1            5              1              5               50   \n",
       "2            6              9              9               25   \n",
       "3            5             12             18                5   \n",
       "4            3              1             16               50   \n",
       "\n",
       "   Arrival_Time_hour  Arrival_Time_minute  Duration_hour  Duration_minute  \n",
       "0                  1                   10              2               50  \n",
       "1                 13                   15              7               25  \n",
       "2                  4                   25             19                0  \n",
       "3                 23                   30              5               25  \n",
       "4                 21                   35              4               45  "
      ]
     },
     "execution_count": 28,
     "metadata": {},
     "output_type": "execute_result"
    }
   ],
   "source": [
    "col_num.head()"
   ]
  },
  {
   "cell_type": "markdown",
   "id": "3d75ef80",
   "metadata": {},
   "source": [
    "### Categorical Data\n",
    "'Airline', 'Source', 'Destination', 'Route', 'Total_Stops' dan 'Additional_Info' merupakan data kategorik. Pada umumnya menangani data kategorik menjadi numerik dapat dilakukan dua cara yaitu LabelEncoding dan OneHotEncoding. LabelEncoding dilakukan dengan mengonversi setiap kategori dalam kolom menjadi angka. sedangkan OneHotEncoding dilakukan dengan setiap nilai kategori diubah menjadi kolom baru dan diberi nilai 1 atau 0 (notasi untuk benar/salah) ke kolom"
   ]
  },
  {
   "cell_type": "code",
   "execution_count": 29,
   "id": "31d5eec2",
   "metadata": {},
   "outputs": [
    {
     "data": {
      "text/html": [
       "<div>\n",
       "<style scoped>\n",
       "    .dataframe tbody tr th:only-of-type {\n",
       "        vertical-align: middle;\n",
       "    }\n",
       "\n",
       "    .dataframe tbody tr th {\n",
       "        vertical-align: top;\n",
       "    }\n",
       "\n",
       "    .dataframe thead th {\n",
       "        text-align: right;\n",
       "    }\n",
       "</style>\n",
       "<table border=\"1\" class=\"dataframe\">\n",
       "  <thead>\n",
       "    <tr style=\"text-align: right;\">\n",
       "      <th></th>\n",
       "      <th>Airline</th>\n",
       "      <th>Source</th>\n",
       "      <th>Destination</th>\n",
       "      <th>Route</th>\n",
       "      <th>Total_Stops</th>\n",
       "      <th>Additional_Info</th>\n",
       "    </tr>\n",
       "  </thead>\n",
       "  <tbody>\n",
       "    <tr>\n",
       "      <th>0</th>\n",
       "      <td>IndiGo</td>\n",
       "      <td>Banglore</td>\n",
       "      <td>New Delhi</td>\n",
       "      <td>BLR → DEL</td>\n",
       "      <td>non-stop</td>\n",
       "      <td>No info</td>\n",
       "    </tr>\n",
       "    <tr>\n",
       "      <th>1</th>\n",
       "      <td>Air India</td>\n",
       "      <td>Kolkata</td>\n",
       "      <td>Banglore</td>\n",
       "      <td>CCU → IXR → BBI → BLR</td>\n",
       "      <td>2 stops</td>\n",
       "      <td>No info</td>\n",
       "    </tr>\n",
       "    <tr>\n",
       "      <th>2</th>\n",
       "      <td>Jet Airways</td>\n",
       "      <td>Delhi</td>\n",
       "      <td>Cochin</td>\n",
       "      <td>DEL → LKO → BOM → COK</td>\n",
       "      <td>2 stops</td>\n",
       "      <td>No info</td>\n",
       "    </tr>\n",
       "    <tr>\n",
       "      <th>3</th>\n",
       "      <td>IndiGo</td>\n",
       "      <td>Kolkata</td>\n",
       "      <td>Banglore</td>\n",
       "      <td>CCU → NAG → BLR</td>\n",
       "      <td>1 stop</td>\n",
       "      <td>No info</td>\n",
       "    </tr>\n",
       "    <tr>\n",
       "      <th>4</th>\n",
       "      <td>IndiGo</td>\n",
       "      <td>Banglore</td>\n",
       "      <td>New Delhi</td>\n",
       "      <td>BLR → NAG → DEL</td>\n",
       "      <td>1 stop</td>\n",
       "      <td>No info</td>\n",
       "    </tr>\n",
       "  </tbody>\n",
       "</table>\n",
       "</div>"
      ],
      "text/plain": [
       "       Airline    Source Destination                  Route Total_Stops  \\\n",
       "0       IndiGo  Banglore   New Delhi              BLR → DEL    non-stop   \n",
       "1    Air India   Kolkata    Banglore  CCU → IXR → BBI → BLR     2 stops   \n",
       "2  Jet Airways     Delhi      Cochin  DEL → LKO → BOM → COK     2 stops   \n",
       "3       IndiGo   Kolkata    Banglore        CCU → NAG → BLR      1 stop   \n",
       "4       IndiGo  Banglore   New Delhi        BLR → NAG → DEL      1 stop   \n",
       "\n",
       "  Additional_Info  \n",
       "0         No info  \n",
       "1         No info  \n",
       "2         No info  \n",
       "3         No info  \n",
       "4         No info  "
      ]
     },
     "execution_count": 29,
     "metadata": {},
     "output_type": "execute_result"
    }
   ],
   "source": [
    "# menyimpan kolom kategorik\n",
    "cat_name = ['Airline', 'Source', 'Destination', 'Route', 'Total_Stops', 'Additional_Info']\n",
    "col_cat = train_data[cat_name]\n",
    "col_cat.head()"
   ]
  },
  {
   "cell_type": "markdown",
   "id": "16d1fa66",
   "metadata": {},
   "source": [
    "+ ### Airline\n",
    "Dari kategori feature airline dapat diketahui bagaimana persebaran harga jenis airline dengan menggunakan box plot"
   ]
  },
  {
   "cell_type": "code",
   "execution_count": 30,
   "id": "792321a3",
   "metadata": {
    "scrolled": true
   },
   "outputs": [
    {
     "data": {
      "text/plain": [
       "Jet Airways                          3849\n",
       "IndiGo                               2053\n",
       "Air India                            1751\n",
       "Multiple carriers                    1196\n",
       "SpiceJet                              818\n",
       "Vistara                               479\n",
       "Air Asia                              319\n",
       "GoAir                                 194\n",
       "Multiple carriers Premium economy      13\n",
       "Jet Airways Business                    6\n",
       "Vistara Premium economy                 3\n",
       "Trujet                                  1\n",
       "Name: Airline, dtype: int64"
      ]
     },
     "execution_count": 30,
     "metadata": {},
     "output_type": "execute_result"
    }
   ],
   "source": [
    "# menghitung jumlah penerbangan setiap airline\n",
    "col_cat['Airline'].value_counts()"
   ]
  },
  {
   "cell_type": "code",
   "execution_count": 31,
   "id": "b1c6808e",
   "metadata": {
    "scrolled": false
   },
   "outputs": [
    {
     "data": {
      "text/plain": [
       "12"
      ]
     },
     "execution_count": 31,
     "metadata": {},
     "output_type": "execute_result"
    }
   ],
   "source": [
    "# menghitung jumlah airline\n",
    "len(col_cat['Airline'].unique())"
   ]
  },
  {
   "cell_type": "code",
   "execution_count": 32,
   "id": "3c456f29",
   "metadata": {},
   "outputs": [],
   "source": [
    "# mendefinisikan perintah box plot baru\n",
    "def bplot(x,y,data):\n",
    "    sns.set_style('whitegrid')\n",
    "    plt.figure(figsize=(15,5))\n",
    "    flierprops = dict(marker='o', markerfacecolor='white')\n",
    "    ax = sns.boxplot(x = x, y = y, data = data,linewidth=0.7,flierprops=flierprops)"
   ]
  },
  {
   "cell_type": "code",
   "execution_count": 33,
   "id": "d3512579",
   "metadata": {
    "scrolled": true
   },
   "outputs": [
    {
     "data": {
      "image/png": "[encoded data removed]",
      "text/plain": [
       "<Figure size 1080x360 with 1 Axes>"
      ]
     },
     "metadata": {},
     "output_type": "display_data"
    }
   ],
   "source": [
    "# memplot box plot airline vs price\n",
    "bplot(x = 'Airline', y ='Price', data = train_data.sort_values('Price',ascending = False))\n",
    "plt.title('Grafik 1. Distribusi harga tiket pesawat berdasarkan pengelompokan jenis airline')\n",
    "plt.xticks(rotation=90)\n",
    "plt.show()"
   ]
  },
  {
   "cell_type": "markdown",
   "id": "0d0bab8c",
   "metadata": {},
   "source": [
    "**Grafik 1** diatas merupakan grafik box plot menunjukan distribusi harga dari 12 airline diurutkan dari harga airline yang paling tinggi. Jet Airways Business memiliki harga tiket pesawat yang paling mahal, tetapi memiliki outlier (nilai diluar box plot) yang sedikit, hal ini menunjukan harga cukup stabil atau tidak fluktuatif dibandingkan dengan layanan penerbangan lainnya. Airline selain Jet Airways Business hampir memiliki median harga yang sama.\n",
    "\n",
    "Data 'Airline' tidak memiliki urutan sehingga data diubah menggunakan OneHot Encoding"
   ]
  },
  {
   "cell_type": "code",
   "execution_count": 34,
   "id": "f12a3af4",
   "metadata": {
    "scrolled": true
   },
   "outputs": [
    {
     "data": {
      "text/html": [
       "<div>\n",
       "<style scoped>\n",
       "    .dataframe tbody tr th:only-of-type {\n",
       "        vertical-align: middle;\n",
       "    }\n",
       "\n",
       "    .dataframe tbody tr th {\n",
       "        vertical-align: top;\n",
       "    }\n",
       "\n",
       "    .dataframe thead th {\n",
       "        text-align: right;\n",
       "    }\n",
       "</style>\n",
       "<table border=\"1\" class=\"dataframe\">\n",
       "  <thead>\n",
       "    <tr style=\"text-align: right;\">\n",
       "      <th></th>\n",
       "      <th>Air India</th>\n",
       "      <th>GoAir</th>\n",
       "      <th>IndiGo</th>\n",
       "      <th>Jet Airways</th>\n",
       "      <th>Jet Airways Business</th>\n",
       "      <th>Multiple carriers</th>\n",
       "      <th>Multiple carriers Premium economy</th>\n",
       "      <th>SpiceJet</th>\n",
       "      <th>Trujet</th>\n",
       "      <th>Vistara</th>\n",
       "      <th>Vistara Premium economy</th>\n",
       "    </tr>\n",
       "  </thead>\n",
       "  <tbody>\n",
       "    <tr>\n",
       "      <th>0</th>\n",
       "      <td>0</td>\n",
       "      <td>0</td>\n",
       "      <td>1</td>\n",
       "      <td>0</td>\n",
       "      <td>0</td>\n",
       "      <td>0</td>\n",
       "      <td>0</td>\n",
       "      <td>0</td>\n",
       "      <td>0</td>\n",
       "      <td>0</td>\n",
       "      <td>0</td>\n",
       "    </tr>\n",
       "    <tr>\n",
       "      <th>1</th>\n",
       "      <td>1</td>\n",
       "      <td>0</td>\n",
       "      <td>0</td>\n",
       "      <td>0</td>\n",
       "      <td>0</td>\n",
       "      <td>0</td>\n",
       "      <td>0</td>\n",
       "      <td>0</td>\n",
       "      <td>0</td>\n",
       "      <td>0</td>\n",
       "      <td>0</td>\n",
       "    </tr>\n",
       "    <tr>\n",
       "      <th>2</th>\n",
       "      <td>0</td>\n",
       "      <td>0</td>\n",
       "      <td>0</td>\n",
       "      <td>1</td>\n",
       "      <td>0</td>\n",
       "      <td>0</td>\n",
       "      <td>0</td>\n",
       "      <td>0</td>\n",
       "      <td>0</td>\n",
       "      <td>0</td>\n",
       "      <td>0</td>\n",
       "    </tr>\n",
       "    <tr>\n",
       "      <th>3</th>\n",
       "      <td>0</td>\n",
       "      <td>0</td>\n",
       "      <td>1</td>\n",
       "      <td>0</td>\n",
       "      <td>0</td>\n",
       "      <td>0</td>\n",
       "      <td>0</td>\n",
       "      <td>0</td>\n",
       "      <td>0</td>\n",
       "      <td>0</td>\n",
       "      <td>0</td>\n",
       "    </tr>\n",
       "    <tr>\n",
       "      <th>4</th>\n",
       "      <td>0</td>\n",
       "      <td>0</td>\n",
       "      <td>1</td>\n",
       "      <td>0</td>\n",
       "      <td>0</td>\n",
       "      <td>0</td>\n",
       "      <td>0</td>\n",
       "      <td>0</td>\n",
       "      <td>0</td>\n",
       "      <td>0</td>\n",
       "      <td>0</td>\n",
       "    </tr>\n",
       "  </tbody>\n",
       "</table>\n",
       "</div>"
      ],
      "text/plain": [
       "   Air India  GoAir  IndiGo  Jet Airways  Jet Airways Business  \\\n",
       "0          0      0       1            0                     0   \n",
       "1          1      0       0            0                     0   \n",
       "2          0      0       0            1                     0   \n",
       "3          0      0       1            0                     0   \n",
       "4          0      0       1            0                     0   \n",
       "\n",
       "   Multiple carriers  Multiple carriers Premium economy  SpiceJet  Trujet  \\\n",
       "0                  0                                  0         0       0   \n",
       "1                  0                                  0         0       0   \n",
       "2                  0                                  0         0       0   \n",
       "3                  0                                  0         0       0   \n",
       "4                  0                                  0         0       0   \n",
       "\n",
       "   Vistara  Vistara Premium economy  \n",
       "0        0                        0  \n",
       "1        0                        0  \n",
       "2        0                        0  \n",
       "3        0                        0  \n",
       "4        0                        0  "
      ]
     },
     "execution_count": 34,
     "metadata": {},
     "output_type": "execute_result"
    }
   ],
   "source": [
    "# membuat OneHotEncoding data 'Airline'\n",
    "Airline = pd.get_dummies(col_cat['Airline'],drop_first=True)\n",
    "Airline.head()"
   ]
  },
  {
   "cell_type": "markdown",
   "id": "5cf004db",
   "metadata": {},
   "source": [
    "+ ### Source\n",
    "Dari kategori feature Source dapat diketahui bagaimana persebaran harga penerbangan berdasarkan lokasi kebarangkatan dengan menggunakan box plot"
   ]
  },
  {
   "cell_type": "code",
   "execution_count": 35,
   "id": "30b5b37b",
   "metadata": {},
   "outputs": [
    {
     "data": {
      "text/plain": [
       "Delhi       4536\n",
       "Kolkata     2871\n",
       "Banglore    2197\n",
       "Mumbai       697\n",
       "Chennai      381\n",
       "Name: Source, dtype: int64"
      ]
     },
     "execution_count": 35,
     "metadata": {},
     "output_type": "execute_result"
    }
   ],
   "source": [
    "# menghitung jumlah penerbangan setiap lokasi keberangkatan\n",
    "col_cat['Source'].value_counts()"
   ]
  },
  {
   "cell_type": "code",
   "execution_count": 36,
   "id": "6eb73606",
   "metadata": {
    "scrolled": true
   },
   "outputs": [
    {
     "data": {
      "image/png": "[encoded data removed]",
      "text/plain": [
       "<Figure size 1080x360 with 1 Axes>"
      ]
     },
     "metadata": {},
     "output_type": "display_data"
    }
   ],
   "source": [
    "# memplot source vs price\n",
    "bplot(x = 'Source', y ='Price', data = train_data.sort_values('Price',ascending = False))\n",
    "plt.title('Grafik 2. Distribusi harga tiket pesawat berdasarkan lokasi keberangkatan')\n",
    "plt.show()"
   ]
  },
  {
   "cell_type": "markdown",
   "id": "6d7ef11f",
   "metadata": {},
   "source": [
    "**Grafik 2** diatas merupakan grafik box plot menunjukan distribusi harga berdasarkan 5 lokasi keberangkatan diurutkan dari harga yang paling tinggi. Penerbangan dari Banglore memiliki harga fluktuatif paling tinggi. Sedangkan untuk nilai median tertinggi terletak pada penerbangan dari Delhi\n",
    "\n",
    "Data 'Source' tidak memiliki urutan sehingga untuk mempermudah data diubah menggunakan OneHot Encoding"
   ]
  },
  {
   "cell_type": "code",
   "execution_count": 37,
   "id": "fe9442df",
   "metadata": {
    "scrolled": true
   },
   "outputs": [
    {
     "data": {
      "text/html": [
       "<div>\n",
       "<style scoped>\n",
       "    .dataframe tbody tr th:only-of-type {\n",
       "        vertical-align: middle;\n",
       "    }\n",
       "\n",
       "    .dataframe tbody tr th {\n",
       "        vertical-align: top;\n",
       "    }\n",
       "\n",
       "    .dataframe thead th {\n",
       "        text-align: right;\n",
       "    }\n",
       "</style>\n",
       "<table border=\"1\" class=\"dataframe\">\n",
       "  <thead>\n",
       "    <tr style=\"text-align: right;\">\n",
       "      <th></th>\n",
       "      <th>Chennai</th>\n",
       "      <th>Delhi</th>\n",
       "      <th>Kolkata</th>\n",
       "      <th>Mumbai</th>\n",
       "    </tr>\n",
       "  </thead>\n",
       "  <tbody>\n",
       "    <tr>\n",
       "      <th>0</th>\n",
       "      <td>0</td>\n",
       "      <td>0</td>\n",
       "      <td>0</td>\n",
       "      <td>0</td>\n",
       "    </tr>\n",
       "    <tr>\n",
       "      <th>1</th>\n",
       "      <td>0</td>\n",
       "      <td>0</td>\n",
       "      <td>1</td>\n",
       "      <td>0</td>\n",
       "    </tr>\n",
       "    <tr>\n",
       "      <th>2</th>\n",
       "      <td>0</td>\n",
       "      <td>1</td>\n",
       "      <td>0</td>\n",
       "      <td>0</td>\n",
       "    </tr>\n",
       "    <tr>\n",
       "      <th>3</th>\n",
       "      <td>0</td>\n",
       "      <td>0</td>\n",
       "      <td>1</td>\n",
       "      <td>0</td>\n",
       "    </tr>\n",
       "    <tr>\n",
       "      <th>4</th>\n",
       "      <td>0</td>\n",
       "      <td>0</td>\n",
       "      <td>0</td>\n",
       "      <td>0</td>\n",
       "    </tr>\n",
       "  </tbody>\n",
       "</table>\n",
       "</div>"
      ],
      "text/plain": [
       "   Chennai  Delhi  Kolkata  Mumbai\n",
       "0        0      0        0       0\n",
       "1        0      0        1       0\n",
       "2        0      1        0       0\n",
       "3        0      0        1       0\n",
       "4        0      0        0       0"
      ]
     },
     "execution_count": 37,
     "metadata": {},
     "output_type": "execute_result"
    }
   ],
   "source": [
    "# membuat OneHotEncoding 'Source'\n",
    "Source = pd.get_dummies(col_cat['Source'],drop_first=True)\n",
    "Source.head()"
   ]
  },
  {
   "cell_type": "markdown",
   "id": "a7ccee3c",
   "metadata": {},
   "source": [
    "+ ### Destination\n",
    "kategori feature Destination dapat diketahui bagaimana persebaran harga penerbangan berdasarkan lokasi kedatangan dengan menggunakan box plot"
   ]
  },
  {
   "cell_type": "code",
   "execution_count": 38,
   "id": "3e9f1299",
   "metadata": {},
   "outputs": [
    {
     "data": {
      "text/plain": [
       "Cochin       4536\n",
       "Banglore     2871\n",
       "Delhi        1265\n",
       "New Delhi     932\n",
       "Hyderabad     697\n",
       "Kolkata       381\n",
       "Name: Destination, dtype: int64"
      ]
     },
     "execution_count": 38,
     "metadata": {},
     "output_type": "execute_result"
    }
   ],
   "source": [
    "# menghitung jumlah penerbangan setiap lokasi kedatangan\n",
    "col_cat['Destination'].value_counts()"
   ]
  },
  {
   "cell_type": "code",
   "execution_count": 39,
   "id": "e6c2a86f",
   "metadata": {
    "scrolled": true
   },
   "outputs": [
    {
     "data": {
      "image/png": "[encoded data removed]",
      "text/plain": [
       "<Figure size 1080x360 with 1 Axes>"
      ]
     },
     "metadata": {},
     "output_type": "display_data"
    }
   ],
   "source": [
    "# memplot destination vs price\n",
    "bplot(x = 'Destination', y ='Price', data = train_data.sort_values('Price',ascending = False))\n",
    "plt.title('Grafik 3. Distribusi harga tiket pesawat berdasarkan lokasi kedatangan')\n",
    "plt.show()"
   ]
  },
  {
   "cell_type": "markdown",
   "id": "8d60117a",
   "metadata": {},
   "source": [
    "**Grafik 3** diatas merupakan grafik box plot menunjukan distribusi harga berdasarkan 6 lokasi kedatangan diurutkan dari harga yang paling tinggi. Penerbangan menuju New Delhi memiliki fluktuatif dan median harga paling tinggi.\n",
    "\n",
    "Data 'Destination' tidak memiliki urutan sehingga untuk mempermudah data diubah menggunakan OneHot Encoding"
   ]
  },
  {
   "cell_type": "code",
   "execution_count": 40,
   "id": "c39be41b",
   "metadata": {
    "scrolled": false
   },
   "outputs": [
    {
     "data": {
      "text/html": [
       "<div>\n",
       "<style scoped>\n",
       "    .dataframe tbody tr th:only-of-type {\n",
       "        vertical-align: middle;\n",
       "    }\n",
       "\n",
       "    .dataframe tbody tr th {\n",
       "        vertical-align: top;\n",
       "    }\n",
       "\n",
       "    .dataframe thead th {\n",
       "        text-align: right;\n",
       "    }\n",
       "</style>\n",
       "<table border=\"1\" class=\"dataframe\">\n",
       "  <thead>\n",
       "    <tr style=\"text-align: right;\">\n",
       "      <th></th>\n",
       "      <th>Cochin</th>\n",
       "      <th>Delhi</th>\n",
       "      <th>Hyderabad</th>\n",
       "      <th>Kolkata</th>\n",
       "      <th>New Delhi</th>\n",
       "    </tr>\n",
       "  </thead>\n",
       "  <tbody>\n",
       "    <tr>\n",
       "      <th>0</th>\n",
       "      <td>0</td>\n",
       "      <td>0</td>\n",
       "      <td>0</td>\n",
       "      <td>0</td>\n",
       "      <td>1</td>\n",
       "    </tr>\n",
       "    <tr>\n",
       "      <th>1</th>\n",
       "      <td>0</td>\n",
       "      <td>0</td>\n",
       "      <td>0</td>\n",
       "      <td>0</td>\n",
       "      <td>0</td>\n",
       "    </tr>\n",
       "    <tr>\n",
       "      <th>2</th>\n",
       "      <td>1</td>\n",
       "      <td>0</td>\n",
       "      <td>0</td>\n",
       "      <td>0</td>\n",
       "      <td>0</td>\n",
       "    </tr>\n",
       "    <tr>\n",
       "      <th>3</th>\n",
       "      <td>0</td>\n",
       "      <td>0</td>\n",
       "      <td>0</td>\n",
       "      <td>0</td>\n",
       "      <td>0</td>\n",
       "    </tr>\n",
       "    <tr>\n",
       "      <th>4</th>\n",
       "      <td>0</td>\n",
       "      <td>0</td>\n",
       "      <td>0</td>\n",
       "      <td>0</td>\n",
       "      <td>1</td>\n",
       "    </tr>\n",
       "  </tbody>\n",
       "</table>\n",
       "</div>"
      ],
      "text/plain": [
       "   Cochin  Delhi  Hyderabad  Kolkata  New Delhi\n",
       "0       0      0          0        0          1\n",
       "1       0      0          0        0          0\n",
       "2       1      0          0        0          0\n",
       "3       0      0          0        0          0\n",
       "4       0      0          0        0          1"
      ]
     },
     "execution_count": 40,
     "metadata": {},
     "output_type": "execute_result"
    }
   ],
   "source": [
    "# membuat OneHotEncoding 'Destination'\n",
    "Destination = pd.get_dummies(col_cat['Destination'],drop_first=True)\n",
    "Destination.head()"
   ]
  },
  {
   "cell_type": "markdown",
   "id": "62388fd6",
   "metadata": {},
   "source": [
    "+ ### Total_Stops\n",
    "kategori feature Total_Stops dapat diketahui bagaimana persebaran harga penerbangan berdasarkan jumlah pemberhentian dengan menggunakan box plot"
   ]
  },
  {
   "cell_type": "code",
   "execution_count": 41,
   "id": "3357a7e2",
   "metadata": {},
   "outputs": [
    {
     "data": {
      "text/plain": [
       "1 stop      5625\n",
       "non-stop    3491\n",
       "2 stops     1520\n",
       "3 stops       45\n",
       "4 stops        1\n",
       "Name: Total_Stops, dtype: int64"
      ]
     },
     "execution_count": 41,
     "metadata": {},
     "output_type": "execute_result"
    }
   ],
   "source": [
    "# menghitung jumlah penerbangan setiap jumlah pemberhentian\n",
    "col_cat['Total_Stops'].value_counts()"
   ]
  },
  {
   "cell_type": "code",
   "execution_count": 42,
   "id": "2a7debf9",
   "metadata": {
    "scrolled": false
   },
   "outputs": [
    {
     "data": {
      "image/png": "[encoded data removed]",
      "text/plain": [
       "<Figure size 1080x360 with 1 Axes>"
      ]
     },
     "metadata": {},
     "output_type": "display_data"
    }
   ],
   "source": [
    "# memplot Total_Stops vs price\n",
    "bplot(x = 'Total_Stops', y ='Price', data = train_data.sort_values('Price',ascending = False))\n",
    "plt.title('Grafik 4. Distribusi harga tiket pesawat berdasarkan jumlah pemberhentian')\n",
    "plt.show()"
   ]
  },
  {
   "cell_type": "markdown",
   "id": "7ac2a3f8",
   "metadata": {},
   "source": [
    "**Grafik 4** diatas merupakan grafik box plot menunjukan distribusi harga berdasarkan jumlah pemberhentian diurutkan dari harga yang paling tinggi. Penerbangan dengan 1 pemberhentian lebih memungkinkan memiliki harga yang fluktuatif dibandingkan jumlah pemberhentian lainnya. Sedangkan untuk tanpa harga median trmurah dimiliki oleh penerbangan tanpa berhenti\n",
    "\n",
    "Data 'Total_Stop' memiliki urutan pemberhentian sehingga data diubah menggunakan Label Encoding"
   ]
  },
  {
   "cell_type": "code",
   "execution_count": 43,
   "id": "d78f674e",
   "metadata": {},
   "outputs": [
    {
     "name": "stdout",
     "output_type": "stream",
     "text": [
      "{'non-stop': 0, '2 stops': 2, '1 stop': 1, '3 stops': 3, '4 stops': 4}\n"
     ]
    }
   ],
   "source": [
    "# membuat label nomor setiap kategori di 'Total_Stops'\n",
    "dict={'non-stop': 0, '2 stops': 2, '1 stop': 1, '3 stops': 3, '4 stops': 4}\n",
    "print(dict)"
   ]
  },
  {
   "cell_type": "markdown",
   "id": "4b89115a",
   "metadata": {},
   "source": [
    "maka untuk katogori 'non-stop' akan digantikan dengan angka 0 dan seterusnya"
   ]
  },
  {
   "cell_type": "code",
   "execution_count": 44,
   "id": "25ad0168",
   "metadata": {},
   "outputs": [],
   "source": [
    "# membuat kolom label dari kategori 'Total_Stops'\n",
    "Total_Stops = col_cat['Total_Stops'].map(dict)"
   ]
  },
  {
   "cell_type": "code",
   "execution_count": 45,
   "id": "fb35dabb",
   "metadata": {
    "scrolled": true
   },
   "outputs": [
    {
     "data": {
      "text/plain": [
       "0    0\n",
       "1    2\n",
       "2    2\n",
       "3    1\n",
       "4    1\n",
       "Name: Total_Stops, dtype: int64"
      ]
     },
     "execution_count": 45,
     "metadata": {},
     "output_type": "execute_result"
    }
   ],
   "source": [
    "Total_Stops.head()"
   ]
  },
  {
   "cell_type": "markdown",
   "id": "621c1b92",
   "metadata": {},
   "source": [
    "+ ### Route\n",
    "feature Route memiliki data yang cukup unik, data route menunjukan lokasi rute perjalanan penerbangan. Untuk memudahkan analisis, lokasi rute perjalanan dapat diurai dan dibuat kolom baru setiap rute. Setelah itu setiap kolom baru loksai rute  diubah menjadi numerik."
   ]
  },
  {
   "cell_type": "code",
   "execution_count": 46,
   "id": "35030b6b",
   "metadata": {},
   "outputs": [
    {
     "data": {
      "text/plain": [
       "0                    BLR → DEL\n",
       "1        CCU → IXR → BBI → BLR\n",
       "2        DEL → LKO → BOM → COK\n",
       "3              CCU → NAG → BLR\n",
       "4              BLR → NAG → DEL\n",
       "                 ...          \n",
       "10678                CCU → BLR\n",
       "10679                CCU → BLR\n",
       "10680                BLR → DEL\n",
       "10681                BLR → DEL\n",
       "10682    DEL → GOI → BOM → COK\n",
       "Name: Route, Length: 10682, dtype: object"
      ]
     },
     "execution_count": 46,
     "metadata": {},
     "output_type": "execute_result"
    }
   ],
   "source": [
    "# menampilkan kolom 'Route'\n",
    "col_cat[\"Route\"]"
   ]
  },
  {
   "cell_type": "code",
   "execution_count": 47,
   "id": "7c222d33",
   "metadata": {
    "scrolled": true
   },
   "outputs": [
    {
     "data": {
      "text/html": [
       "<div>\n",
       "<style scoped>\n",
       "    .dataframe tbody tr th:only-of-type {\n",
       "        vertical-align: middle;\n",
       "    }\n",
       "\n",
       "    .dataframe tbody tr th {\n",
       "        vertical-align: top;\n",
       "    }\n",
       "\n",
       "    .dataframe thead th {\n",
       "        text-align: right;\n",
       "    }\n",
       "</style>\n",
       "<table border=\"1\" class=\"dataframe\">\n",
       "  <thead>\n",
       "    <tr style=\"text-align: right;\">\n",
       "      <th></th>\n",
       "      <th>Route</th>\n",
       "    </tr>\n",
       "  </thead>\n",
       "  <tbody>\n",
       "    <tr>\n",
       "      <th>0</th>\n",
       "      <td>[BLR, DEL]</td>\n",
       "    </tr>\n",
       "    <tr>\n",
       "      <th>1</th>\n",
       "      <td>[CCU, IXR, BBI, BLR]</td>\n",
       "    </tr>\n",
       "    <tr>\n",
       "      <th>2</th>\n",
       "      <td>[DEL, LKO, BOM, COK]</td>\n",
       "    </tr>\n",
       "    <tr>\n",
       "      <th>3</th>\n",
       "      <td>[CCU, NAG, BLR]</td>\n",
       "    </tr>\n",
       "    <tr>\n",
       "      <th>4</th>\n",
       "      <td>[BLR, NAG, DEL]</td>\n",
       "    </tr>\n",
       "  </tbody>\n",
       "</table>\n",
       "</div>"
      ],
      "text/plain": [
       "                  Route\n",
       "0            [BLR, DEL]\n",
       "1  [CCU, IXR, BBI, BLR]\n",
       "2  [DEL, LKO, BOM, COK]\n",
       "3       [CCU, NAG, BLR]\n",
       "4       [BLR, NAG, DEL]"
      ]
     },
     "execution_count": 47,
     "metadata": {},
     "output_type": "execute_result"
    }
   ],
   "source": [
    "# memsihakan lokasi route menjadi array dengan pemisahan setiap ' → '\n",
    "Route = pd.DataFrame(col_cat[\"Route\"].str.split(' → '))\n",
    "Route.head()"
   ]
  },
  {
   "cell_type": "markdown",
   "id": "1d4e8621",
   "metadata": {},
   "source": [
    "Berdasarkan kolom 'Total_Stops' jumlah pemberhentian maksimal sejumlah 4 pemberhentian, Sehingga panjang maksimal array adalah 6 rute. Dengan demikian, rute dapat dipisah menjadi menjadi 6 kolom rute"
   ]
  },
  {
   "cell_type": "code",
   "execution_count": 48,
   "id": "86da7ed6",
   "metadata": {
    "scrolled": true
   },
   "outputs": [
    {
     "data": {
      "text/html": [
       "<div>\n",
       "<style scoped>\n",
       "    .dataframe tbody tr th:only-of-type {\n",
       "        vertical-align: middle;\n",
       "    }\n",
       "\n",
       "    .dataframe tbody tr th {\n",
       "        vertical-align: top;\n",
       "    }\n",
       "\n",
       "    .dataframe thead th {\n",
       "        text-align: right;\n",
       "    }\n",
       "</style>\n",
       "<table border=\"1\" class=\"dataframe\">\n",
       "  <thead>\n",
       "    <tr style=\"text-align: right;\">\n",
       "      <th></th>\n",
       "      <th>Route</th>\n",
       "      <th>Route_1</th>\n",
       "      <th>Route_2</th>\n",
       "      <th>Route_3</th>\n",
       "      <th>Route_4</th>\n",
       "      <th>Route_5</th>\n",
       "      <th>Route_6</th>\n",
       "    </tr>\n",
       "  </thead>\n",
       "  <tbody>\n",
       "    <tr>\n",
       "      <th>0</th>\n",
       "      <td>[BLR, DEL]</td>\n",
       "      <td>BLR</td>\n",
       "      <td>DEL</td>\n",
       "      <td>NaN</td>\n",
       "      <td>NaN</td>\n",
       "      <td>NaN</td>\n",
       "      <td>NaN</td>\n",
       "    </tr>\n",
       "    <tr>\n",
       "      <th>1</th>\n",
       "      <td>[CCU, IXR, BBI, BLR]</td>\n",
       "      <td>CCU</td>\n",
       "      <td>IXR</td>\n",
       "      <td>BBI</td>\n",
       "      <td>BLR</td>\n",
       "      <td>NaN</td>\n",
       "      <td>NaN</td>\n",
       "    </tr>\n",
       "    <tr>\n",
       "      <th>2</th>\n",
       "      <td>[DEL, LKO, BOM, COK]</td>\n",
       "      <td>DEL</td>\n",
       "      <td>LKO</td>\n",
       "      <td>BOM</td>\n",
       "      <td>COK</td>\n",
       "      <td>NaN</td>\n",
       "      <td>NaN</td>\n",
       "    </tr>\n",
       "    <tr>\n",
       "      <th>3</th>\n",
       "      <td>[CCU, NAG, BLR]</td>\n",
       "      <td>CCU</td>\n",
       "      <td>NAG</td>\n",
       "      <td>BLR</td>\n",
       "      <td>NaN</td>\n",
       "      <td>NaN</td>\n",
       "      <td>NaN</td>\n",
       "    </tr>\n",
       "    <tr>\n",
       "      <th>4</th>\n",
       "      <td>[BLR, NAG, DEL]</td>\n",
       "      <td>BLR</td>\n",
       "      <td>NAG</td>\n",
       "      <td>DEL</td>\n",
       "      <td>NaN</td>\n",
       "      <td>NaN</td>\n",
       "      <td>NaN</td>\n",
       "    </tr>\n",
       "  </tbody>\n",
       "</table>\n",
       "</div>"
      ],
      "text/plain": [
       "                  Route Route_1 Route_2 Route_3 Route_4 Route_5 Route_6\n",
       "0            [BLR, DEL]     BLR     DEL     NaN     NaN     NaN     NaN\n",
       "1  [CCU, IXR, BBI, BLR]     CCU     IXR     BBI     BLR     NaN     NaN\n",
       "2  [DEL, LKO, BOM, COK]     DEL     LKO     BOM     COK     NaN     NaN\n",
       "3       [CCU, NAG, BLR]     CCU     NAG     BLR     NaN     NaN     NaN\n",
       "4       [BLR, NAG, DEL]     BLR     NAG     DEL     NaN     NaN     NaN"
      ]
     },
     "execution_count": 48,
     "metadata": {},
     "output_type": "execute_result"
    }
   ],
   "source": [
    "# mengurai array rute menjadi 6 kolom rute\n",
    "Route[\"Route_1\"] = Route[\"Route\"].str[0]\n",
    "Route['Route_2'] = Route[\"Route\"].str[1]\n",
    "Route['Route_3'] = Route[\"Route\"].str[2]\n",
    "Route['Route_4'] = Route[\"Route\"].str[3]\n",
    "Route['Route_5'] = Route[\"Route\"].str[4]\n",
    "Route['Route_6'] = Route[\"Route\"].str[5]\n",
    "Route.head()"
   ]
  },
  {
   "cell_type": "markdown",
   "id": "bd066220",
   "metadata": {},
   "source": [
    "Karena data 'Route' sudah terurai, kolom tersebut dapat dihapus."
   ]
  },
  {
   "cell_type": "code",
   "execution_count": 49,
   "id": "95543f58",
   "metadata": {},
   "outputs": [],
   "source": [
    "# menghapus kolom 'Route'\n",
    "Route.drop('Route', axis = 1, inplace = True)"
   ]
  },
  {
   "cell_type": "code",
   "execution_count": 50,
   "id": "6f36a88e",
   "metadata": {},
   "outputs": [
    {
     "data": {
      "text/plain": [
       "Route_1    10682\n",
       "Route_2    10682\n",
       "Route_3     7191\n",
       "Route_4     1566\n",
       "Route_5       46\n",
       "Route_6        1\n",
       "dtype: int64"
      ]
     },
     "execution_count": 50,
     "metadata": {},
     "output_type": "execute_result"
    }
   ],
   "source": [
    "# menampilkan jumlah data setiap rute\n",
    "Route.count()"
   ]
  },
  {
   "cell_type": "markdown",
   "id": "3f5fcec3",
   "metadata": {},
   "source": [
    "Kolom rute 3, 4, 5, dan 6 memiliki nilai NaN karena tidak semua perjalanan memiliki jumlah rute yang sama. Sedangkan untuk rute 1 dan 2 merupakan perjalanan terpendek sehingga sudah pasti tidak memiliki nilai NaN. Nilai NaN dapat kita isi dengan string 'None'"
   ]
  },
  {
   "cell_type": "code",
   "execution_count": 51,
   "id": "55f033e5",
   "metadata": {},
   "outputs": [],
   "source": [
    "# mengisi nilai NaN dengan 'None'\n",
    "for i in ['Route_3', 'Route_4','Route_5','Route_6']:\n",
    "    Route[i].fillna('None',inplace=True)"
   ]
  },
  {
   "cell_type": "code",
   "execution_count": 52,
   "id": "984fd17a",
   "metadata": {},
   "outputs": [
    {
     "data": {
      "text/plain": [
       "Route_1    0\n",
       "Route_2    0\n",
       "Route_3    0\n",
       "Route_4    0\n",
       "Route_5    0\n",
       "Route_6    0\n",
       "dtype: int64"
      ]
     },
     "execution_count": 52,
     "metadata": {},
     "output_type": "execute_result"
    }
   ],
   "source": [
    "# cek missing value\n",
    "Route.isnull().sum()"
   ]
  },
  {
   "cell_type": "code",
   "execution_count": 53,
   "id": "1bf8dced",
   "metadata": {
    "scrolled": true
   },
   "outputs": [
    {
     "data": {
      "text/html": [
       "<div>\n",
       "<style scoped>\n",
       "    .dataframe tbody tr th:only-of-type {\n",
       "        vertical-align: middle;\n",
       "    }\n",
       "\n",
       "    .dataframe tbody tr th {\n",
       "        vertical-align: top;\n",
       "    }\n",
       "\n",
       "    .dataframe thead th {\n",
       "        text-align: right;\n",
       "    }\n",
       "</style>\n",
       "<table border=\"1\" class=\"dataframe\">\n",
       "  <thead>\n",
       "    <tr style=\"text-align: right;\">\n",
       "      <th></th>\n",
       "      <th>Route_1</th>\n",
       "      <th>Route_2</th>\n",
       "      <th>Route_3</th>\n",
       "      <th>Route_4</th>\n",
       "      <th>Route_5</th>\n",
       "      <th>Route_6</th>\n",
       "    </tr>\n",
       "  </thead>\n",
       "  <tbody>\n",
       "    <tr>\n",
       "      <th>0</th>\n",
       "      <td>BLR</td>\n",
       "      <td>DEL</td>\n",
       "      <td>None</td>\n",
       "      <td>None</td>\n",
       "      <td>None</td>\n",
       "      <td>None</td>\n",
       "    </tr>\n",
       "    <tr>\n",
       "      <th>1</th>\n",
       "      <td>CCU</td>\n",
       "      <td>IXR</td>\n",
       "      <td>BBI</td>\n",
       "      <td>BLR</td>\n",
       "      <td>None</td>\n",
       "      <td>None</td>\n",
       "    </tr>\n",
       "    <tr>\n",
       "      <th>2</th>\n",
       "      <td>DEL</td>\n",
       "      <td>LKO</td>\n",
       "      <td>BOM</td>\n",
       "      <td>COK</td>\n",
       "      <td>None</td>\n",
       "      <td>None</td>\n",
       "    </tr>\n",
       "    <tr>\n",
       "      <th>3</th>\n",
       "      <td>CCU</td>\n",
       "      <td>NAG</td>\n",
       "      <td>BLR</td>\n",
       "      <td>None</td>\n",
       "      <td>None</td>\n",
       "      <td>None</td>\n",
       "    </tr>\n",
       "    <tr>\n",
       "      <th>4</th>\n",
       "      <td>BLR</td>\n",
       "      <td>NAG</td>\n",
       "      <td>DEL</td>\n",
       "      <td>None</td>\n",
       "      <td>None</td>\n",
       "      <td>None</td>\n",
       "    </tr>\n",
       "  </tbody>\n",
       "</table>\n",
       "</div>"
      ],
      "text/plain": [
       "  Route_1 Route_2 Route_3 Route_4 Route_5 Route_6\n",
       "0     BLR     DEL    None    None    None    None\n",
       "1     CCU     IXR     BBI     BLR    None    None\n",
       "2     DEL     LKO     BOM     COK    None    None\n",
       "3     CCU     NAG     BLR    None    None    None\n",
       "4     BLR     NAG     DEL    None    None    None"
      ]
     },
     "execution_count": 53,
     "metadata": {},
     "output_type": "execute_result"
    }
   ],
   "source": [
    "# cek data Route\n",
    "Route.head()"
   ]
  },
  {
   "cell_type": "code",
   "execution_count": 54,
   "id": "2f9b2f2d",
   "metadata": {},
   "outputs": [
    {
     "data": {
      "text/plain": [
       "DEL    4536\n",
       "CCU    2871\n",
       "BLR    2197\n",
       "BOM     697\n",
       "MAA     381\n",
       "Name: Route_1, dtype: int64"
      ]
     },
     "execution_count": 54,
     "metadata": {},
     "output_type": "execute_result"
    }
   ],
   "source": [
    "Route['Route_1'].value_counts()"
   ]
  },
  {
   "cell_type": "markdown",
   "id": "3ccaf2e5",
   "metadata": {},
   "source": [
    "Untuk menentukan metode pengubah data kategori menjadi menjadi numerik, perlu dilakukan pengcekan feature di setiap kolom rute"
   ]
  },
  {
   "cell_type": "code",
   "execution_count": 55,
   "id": "fe3392a0",
   "metadata": {},
   "outputs": [
    {
     "name": "stdout",
     "output_type": "stream",
     "text": [
      "Route_1 memiliki 5 kategori\n",
      "Route_2 memiliki 40 kategori\n",
      "Route_3 memiliki 27 kategori\n",
      "Route_4 memiliki 12 kategori\n",
      "Route_5 memiliki 6 kategori\n",
      "Route_6 memiliki 2 kategori\n"
     ]
    }
   ],
   "source": [
    "# cek feature dari setiap kolom rute\n",
    "for feature in Route.columns:\n",
    "    print('{} memiliki {} kategori'.format(feature,len(Route[feature].value_counts())))"
   ]
  },
  {
   "cell_type": "markdown",
   "id": "9511e321",
   "metadata": {},
   "source": [
    "Karena setiap kolom rute memiliki jumlah kategori yang berbeda-beda dan jumlah yang sangat banyak, maka lebih baik untuk menggunakan metode LabelEncoding"
   ]
  },
  {
   "cell_type": "code",
   "execution_count": 56,
   "id": "dfda90a4",
   "metadata": {},
   "outputs": [],
   "source": [
    "from sklearn.preprocessing import LabelEncoder\n",
    "encoder = LabelEncoder()"
   ]
  },
  {
   "cell_type": "markdown",
   "id": "23aaa31b",
   "metadata": {},
   "source": [
    "Untuk mengetauhi label konversi setiap kategori, dapat dilakukan mapping label katogori setiap kolom rute sebelum menkonversi feature menjadi numerik."
   ]
  },
  {
   "cell_type": "code",
   "execution_count": 57,
   "id": "d3c88604",
   "metadata": {
    "scrolled": false
   },
   "outputs": [],
   "source": [
    "# mapping label kategori setiap kolom\n",
    "def get_route_label(arg):\n",
    "    encoder.fit(arg)\n",
    "    route_name_mapping = zip(encoder.classes_, encoder.transform(encoder.classes_))\n",
    "    route_list = list(route_name_mapping)\n",
    "    return {y:x for x,y in route_list}\n",
    "\n",
    "label_route_1 = get_route_label(Route['Route_1'])\n",
    "label_route_2 = get_route_label(Route['Route_2'])\n",
    "label_route_3 = get_route_label(Route['Route_3'])\n",
    "label_route_4 = get_route_label(Route['Route_4'])\n",
    "label_route_5 = get_route_label(Route['Route_5'])\n",
    "label_route_6 = get_route_label(Route['Route_6'])"
   ]
  },
  {
   "cell_type": "code",
   "execution_count": 58,
   "id": "97f6cc02",
   "metadata": {},
   "outputs": [
    {
     "data": {
      "text/plain": [
       "{0: 'AMD',\n",
       " 1: 'BBI',\n",
       " 2: 'BHO',\n",
       " 3: 'BLR',\n",
       " 4: 'BOM',\n",
       " 5: 'COK',\n",
       " 6: 'DEL',\n",
       " 7: 'GWL',\n",
       " 8: 'HYD',\n",
       " 9: 'NAG',\n",
       " 10: 'None',\n",
       " 11: 'TRV'}"
      ]
     },
     "execution_count": 58,
     "metadata": {},
     "output_type": "execute_result"
    }
   ],
   "source": [
    "# cek salah satu label mapping\n",
    "label_route_4"
   ]
  },
  {
   "cell_type": "code",
   "execution_count": 59,
   "id": "88e57a0b",
   "metadata": {
    "scrolled": true
   },
   "outputs": [
    {
     "data": {
      "text/html": [
       "<div>\n",
       "<style scoped>\n",
       "    .dataframe tbody tr th:only-of-type {\n",
       "        vertical-align: middle;\n",
       "    }\n",
       "\n",
       "    .dataframe tbody tr th {\n",
       "        vertical-align: top;\n",
       "    }\n",
       "\n",
       "    .dataframe thead th {\n",
       "        text-align: right;\n",
       "    }\n",
       "</style>\n",
       "<table border=\"1\" class=\"dataframe\">\n",
       "  <thead>\n",
       "    <tr style=\"text-align: right;\">\n",
       "      <th></th>\n",
       "      <th>Route_1</th>\n",
       "      <th>Route_2</th>\n",
       "      <th>Route_3</th>\n",
       "      <th>Route_4</th>\n",
       "      <th>Route_5</th>\n",
       "      <th>Route_6</th>\n",
       "    </tr>\n",
       "  </thead>\n",
       "  <tbody>\n",
       "    <tr>\n",
       "      <th>0</th>\n",
       "      <td>0</td>\n",
       "      <td>10</td>\n",
       "      <td>21</td>\n",
       "      <td>10</td>\n",
       "      <td>4</td>\n",
       "      <td>1</td>\n",
       "    </tr>\n",
       "    <tr>\n",
       "      <th>1</th>\n",
       "      <td>2</td>\n",
       "      <td>20</td>\n",
       "      <td>1</td>\n",
       "      <td>3</td>\n",
       "      <td>4</td>\n",
       "      <td>1</td>\n",
       "    </tr>\n",
       "    <tr>\n",
       "      <th>2</th>\n",
       "      <td>3</td>\n",
       "      <td>27</td>\n",
       "      <td>4</td>\n",
       "      <td>5</td>\n",
       "      <td>4</td>\n",
       "      <td>1</td>\n",
       "    </tr>\n",
       "    <tr>\n",
       "      <th>3</th>\n",
       "      <td>2</td>\n",
       "      <td>29</td>\n",
       "      <td>3</td>\n",
       "      <td>10</td>\n",
       "      <td>4</td>\n",
       "      <td>1</td>\n",
       "    </tr>\n",
       "    <tr>\n",
       "      <th>4</th>\n",
       "      <td>0</td>\n",
       "      <td>29</td>\n",
       "      <td>7</td>\n",
       "      <td>10</td>\n",
       "      <td>4</td>\n",
       "      <td>1</td>\n",
       "    </tr>\n",
       "  </tbody>\n",
       "</table>\n",
       "</div>"
      ],
      "text/plain": [
       "   Route_1  Route_2  Route_3  Route_4  Route_5  Route_6\n",
       "0        0       10       21       10        4        1\n",
       "1        2       20        1        3        4        1\n",
       "2        3       27        4        5        4        1\n",
       "3        2       29        3       10        4        1\n",
       "4        0       29        7       10        4        1"
      ]
     },
     "execution_count": 59,
     "metadata": {},
     "output_type": "execute_result"
    }
   ],
   "source": [
    "# mengkonversi kateogrik menjadi numerik dengan LabelEncoder\n",
    "for i in ['Route_1', 'Route_2', 'Route_3', 'Route_4','Route_5','Route_6']:\n",
    "    Route[i] = encoder.fit_transform(Route[i])\n",
    "Route.head()"
   ]
  },
  {
   "cell_type": "markdown",
   "id": "b82bd4ad",
   "metadata": {},
   "source": [
    "+ ### Additional_Info\n",
    "Feature Additional_Info hampir 80% memiliki kategori 'No Info' maka kolom ini dapat dihapus atau tidak diikut sertakan"
   ]
  },
  {
   "cell_type": "code",
   "execution_count": 60,
   "id": "20cca960",
   "metadata": {
    "scrolled": true
   },
   "outputs": [
    {
     "data": {
      "text/plain": [
       "No info                         8344\n",
       "In-flight meal not included     1982\n",
       "No check-in baggage included     320\n",
       "1 Long layover                    19\n",
       "Change airports                    7\n",
       "Business class                     4\n",
       "No Info                            3\n",
       "Red-eye flight                     1\n",
       "2 Long layover                     1\n",
       "1 Short layover                    1\n",
       "Name: Additional_Info, dtype: int64"
      ]
     },
     "execution_count": 60,
     "metadata": {},
     "output_type": "execute_result"
    }
   ],
   "source": [
    "# cek jumlah kategori Additional_Info\n",
    "col_cat['Additional_Info'].value_counts()"
   ]
  },
  {
   "cell_type": "code",
   "execution_count": 61,
   "id": "154fd297",
   "metadata": {
    "scrolled": true
   },
   "outputs": [
    {
     "name": "stdout",
     "output_type": "stream",
     "text": [
      "Persentasi kategori No Info sebanyak 78.11%\n"
     ]
    }
   ],
   "source": [
    "# menghitung seberapa banyak data 'No info'\n",
    "no_info = len(col_cat[col_cat['Additional_Info'] == 'No info'])/len(col_cat['Additional_Info'])\n",
    "print('Persentasi kategori No Info sebanyak %2.2f%%' % (no_info*100))"
   ]
  },
  {
   "cell_type": "markdown",
   "id": "e7b875bd",
   "metadata": {},
   "source": [
    "Setelah seluruh data kategorik diubah menjadi numerik, dapat digabung kembali dengan data numerik ('Airline', 'Source', 'Destination', 'Total_Stops', 'Route', dan 'Price')"
   ]
  },
  {
   "cell_type": "code",
   "execution_count": 62,
   "id": "1e4ef3d0",
   "metadata": {
    "scrolled": true
   },
   "outputs": [
    {
     "data": {
      "text/html": [
       "<div>\n",
       "<style scoped>\n",
       "    .dataframe tbody tr th:only-of-type {\n",
       "        vertical-align: middle;\n",
       "    }\n",
       "\n",
       "    .dataframe tbody tr th {\n",
       "        vertical-align: top;\n",
       "    }\n",
       "\n",
       "    .dataframe thead th {\n",
       "        text-align: right;\n",
       "    }\n",
       "</style>\n",
       "<table border=\"1\" class=\"dataframe\">\n",
       "  <thead>\n",
       "    <tr style=\"text-align: right;\">\n",
       "      <th></th>\n",
       "      <th>Air India</th>\n",
       "      <th>GoAir</th>\n",
       "      <th>IndiGo</th>\n",
       "      <th>Jet Airways</th>\n",
       "      <th>Jet Airways Business</th>\n",
       "      <th>Multiple carriers</th>\n",
       "      <th>Multiple carriers Premium economy</th>\n",
       "      <th>SpiceJet</th>\n",
       "      <th>Trujet</th>\n",
       "      <th>Vistara</th>\n",
       "      <th>Vistara Premium economy</th>\n",
       "      <th>Chennai</th>\n",
       "      <th>Delhi</th>\n",
       "      <th>Kolkata</th>\n",
       "      <th>Mumbai</th>\n",
       "      <th>Cochin</th>\n",
       "      <th>Delhi</th>\n",
       "      <th>Hyderabad</th>\n",
       "      <th>Kolkata</th>\n",
       "      <th>New Delhi</th>\n",
       "      <th>Total_Stops</th>\n",
       "      <th>Route_1</th>\n",
       "      <th>Route_2</th>\n",
       "      <th>Route_3</th>\n",
       "      <th>Route_4</th>\n",
       "      <th>Route_5</th>\n",
       "      <th>Route_6</th>\n",
       "      <th>journey_day</th>\n",
       "      <th>journey_month</th>\n",
       "      <th>Dep_Time_hour</th>\n",
       "      <th>Dep_Time_minute</th>\n",
       "      <th>Arrival_Time_hour</th>\n",
       "      <th>Arrival_Time_minute</th>\n",
       "      <th>Duration_hour</th>\n",
       "      <th>Duration_minute</th>\n",
       "      <th>Price</th>\n",
       "    </tr>\n",
       "  </thead>\n",
       "  <tbody>\n",
       "    <tr>\n",
       "      <th>0</th>\n",
       "      <td>0</td>\n",
       "      <td>0</td>\n",
       "      <td>1</td>\n",
       "      <td>0</td>\n",
       "      <td>0</td>\n",
       "      <td>0</td>\n",
       "      <td>0</td>\n",
       "      <td>0</td>\n",
       "      <td>0</td>\n",
       "      <td>0</td>\n",
       "      <td>0</td>\n",
       "      <td>0</td>\n",
       "      <td>0</td>\n",
       "      <td>0</td>\n",
       "      <td>0</td>\n",
       "      <td>0</td>\n",
       "      <td>0</td>\n",
       "      <td>0</td>\n",
       "      <td>0</td>\n",
       "      <td>1</td>\n",
       "      <td>0</td>\n",
       "      <td>0</td>\n",
       "      <td>10</td>\n",
       "      <td>21</td>\n",
       "      <td>10</td>\n",
       "      <td>4</td>\n",
       "      <td>1</td>\n",
       "      <td>24</td>\n",
       "      <td>3</td>\n",
       "      <td>22</td>\n",
       "      <td>20</td>\n",
       "      <td>1</td>\n",
       "      <td>10</td>\n",
       "      <td>2</td>\n",
       "      <td>50</td>\n",
       "      <td>3897</td>\n",
       "    </tr>\n",
       "    <tr>\n",
       "      <th>1</th>\n",
       "      <td>1</td>\n",
       "      <td>0</td>\n",
       "      <td>0</td>\n",
       "      <td>0</td>\n",
       "      <td>0</td>\n",
       "      <td>0</td>\n",
       "      <td>0</td>\n",
       "      <td>0</td>\n",
       "      <td>0</td>\n",
       "      <td>0</td>\n",
       "      <td>0</td>\n",
       "      <td>0</td>\n",
       "      <td>0</td>\n",
       "      <td>1</td>\n",
       "      <td>0</td>\n",
       "      <td>0</td>\n",
       "      <td>0</td>\n",
       "      <td>0</td>\n",
       "      <td>0</td>\n",
       "      <td>0</td>\n",
       "      <td>2</td>\n",
       "      <td>2</td>\n",
       "      <td>20</td>\n",
       "      <td>1</td>\n",
       "      <td>3</td>\n",
       "      <td>4</td>\n",
       "      <td>1</td>\n",
       "      <td>5</td>\n",
       "      <td>1</td>\n",
       "      <td>5</td>\n",
       "      <td>50</td>\n",
       "      <td>13</td>\n",
       "      <td>15</td>\n",
       "      <td>7</td>\n",
       "      <td>25</td>\n",
       "      <td>7662</td>\n",
       "    </tr>\n",
       "    <tr>\n",
       "      <th>2</th>\n",
       "      <td>0</td>\n",
       "      <td>0</td>\n",
       "      <td>0</td>\n",
       "      <td>1</td>\n",
       "      <td>0</td>\n",
       "      <td>0</td>\n",
       "      <td>0</td>\n",
       "      <td>0</td>\n",
       "      <td>0</td>\n",
       "      <td>0</td>\n",
       "      <td>0</td>\n",
       "      <td>0</td>\n",
       "      <td>1</td>\n",
       "      <td>0</td>\n",
       "      <td>0</td>\n",
       "      <td>1</td>\n",
       "      <td>0</td>\n",
       "      <td>0</td>\n",
       "      <td>0</td>\n",
       "      <td>0</td>\n",
       "      <td>2</td>\n",
       "      <td>3</td>\n",
       "      <td>27</td>\n",
       "      <td>4</td>\n",
       "      <td>5</td>\n",
       "      <td>4</td>\n",
       "      <td>1</td>\n",
       "      <td>6</td>\n",
       "      <td>9</td>\n",
       "      <td>9</td>\n",
       "      <td>25</td>\n",
       "      <td>4</td>\n",
       "      <td>25</td>\n",
       "      <td>19</td>\n",
       "      <td>0</td>\n",
       "      <td>13882</td>\n",
       "    </tr>\n",
       "    <tr>\n",
       "      <th>3</th>\n",
       "      <td>0</td>\n",
       "      <td>0</td>\n",
       "      <td>1</td>\n",
       "      <td>0</td>\n",
       "      <td>0</td>\n",
       "      <td>0</td>\n",
       "      <td>0</td>\n",
       "      <td>0</td>\n",
       "      <td>0</td>\n",
       "      <td>0</td>\n",
       "      <td>0</td>\n",
       "      <td>0</td>\n",
       "      <td>0</td>\n",
       "      <td>1</td>\n",
       "      <td>0</td>\n",
       "      <td>0</td>\n",
       "      <td>0</td>\n",
       "      <td>0</td>\n",
       "      <td>0</td>\n",
       "      <td>0</td>\n",
       "      <td>1</td>\n",
       "      <td>2</td>\n",
       "      <td>29</td>\n",
       "      <td>3</td>\n",
       "      <td>10</td>\n",
       "      <td>4</td>\n",
       "      <td>1</td>\n",
       "      <td>5</td>\n",
       "      <td>12</td>\n",
       "      <td>18</td>\n",
       "      <td>5</td>\n",
       "      <td>23</td>\n",
       "      <td>30</td>\n",
       "      <td>5</td>\n",
       "      <td>25</td>\n",
       "      <td>6218</td>\n",
       "    </tr>\n",
       "    <tr>\n",
       "      <th>4</th>\n",
       "      <td>0</td>\n",
       "      <td>0</td>\n",
       "      <td>1</td>\n",
       "      <td>0</td>\n",
       "      <td>0</td>\n",
       "      <td>0</td>\n",
       "      <td>0</td>\n",
       "      <td>0</td>\n",
       "      <td>0</td>\n",
       "      <td>0</td>\n",
       "      <td>0</td>\n",
       "      <td>0</td>\n",
       "      <td>0</td>\n",
       "      <td>0</td>\n",
       "      <td>0</td>\n",
       "      <td>0</td>\n",
       "      <td>0</td>\n",
       "      <td>0</td>\n",
       "      <td>0</td>\n",
       "      <td>1</td>\n",
       "      <td>1</td>\n",
       "      <td>0</td>\n",
       "      <td>29</td>\n",
       "      <td>7</td>\n",
       "      <td>10</td>\n",
       "      <td>4</td>\n",
       "      <td>1</td>\n",
       "      <td>3</td>\n",
       "      <td>1</td>\n",
       "      <td>16</td>\n",
       "      <td>50</td>\n",
       "      <td>21</td>\n",
       "      <td>35</td>\n",
       "      <td>4</td>\n",
       "      <td>45</td>\n",
       "      <td>13302</td>\n",
       "    </tr>\n",
       "  </tbody>\n",
       "</table>\n",
       "</div>"
      ],
      "text/plain": [
       "   Air India  GoAir  IndiGo  Jet Airways  Jet Airways Business  \\\n",
       "0          0      0       1            0                     0   \n",
       "1          1      0       0            0                     0   \n",
       "2          0      0       0            1                     0   \n",
       "3          0      0       1            0                     0   \n",
       "4          0      0       1            0                     0   \n",
       "\n",
       "   Multiple carriers  Multiple carriers Premium economy  SpiceJet  Trujet  \\\n",
       "0                  0                                  0         0       0   \n",
       "1                  0                                  0         0       0   \n",
       "2                  0                                  0         0       0   \n",
       "3                  0                                  0         0       0   \n",
       "4                  0                                  0         0       0   \n",
       "\n",
       "   Vistara  Vistara Premium economy  Chennai  Delhi  Kolkata  Mumbai  Cochin  \\\n",
       "0        0                        0        0      0        0       0       0   \n",
       "1        0                        0        0      0        1       0       0   \n",
       "2        0                        0        0      1        0       0       1   \n",
       "3        0                        0        0      0        1       0       0   \n",
       "4        0                        0        0      0        0       0       0   \n",
       "\n",
       "   Delhi  Hyderabad  Kolkata  New Delhi  Total_Stops  Route_1  Route_2  \\\n",
       "0      0          0        0          1            0        0       10   \n",
       "1      0          0        0          0            2        2       20   \n",
       "2      0          0        0          0            2        3       27   \n",
       "3      0          0        0          0            1        2       29   \n",
       "4      0          0        0          1            1        0       29   \n",
       "\n",
       "   Route_3  Route_4  Route_5  Route_6  journey_day  journey_month  \\\n",
       "0       21       10        4        1           24              3   \n",
       "1        1        3        4        1            5              1   \n",
       "2        4        5        4        1            6              9   \n",
       "3        3       10        4        1            5             12   \n",
       "4        7       10        4        1            3              1   \n",
       "\n",
       "   Dep_Time_hour  Dep_Time_minute  Arrival_Time_hour  Arrival_Time_minute  \\\n",
       "0             22               20                  1                   10   \n",
       "1              5               50                 13                   15   \n",
       "2              9               25                  4                   25   \n",
       "3             18                5                 23                   30   \n",
       "4             16               50                 21                   35   \n",
       "\n",
       "   Duration_hour  Duration_minute  Price  \n",
       "0              2               50   3897  \n",
       "1              7               25   7662  \n",
       "2             19                0  13882  \n",
       "3              5               25   6218  \n",
       "4              4               45  13302  "
      ]
     },
     "execution_count": 62,
     "metadata": {},
     "output_type": "execute_result"
    }
   ],
   "source": [
    "# menggabungkan data dan tampilkan seluruh kolom\n",
    "data_train = pd.concat([Airline,Source,Destination,Total_Stops,Route,col_num,train_data['Price']],axis=1)\n",
    "pd.set_option('display.max_columns',36)\n",
    "data_train.head()"
   ]
  },
  {
   "cell_type": "markdown",
   "id": "4e7f6ac7",
   "metadata": {},
   "source": [
    "### Handling Outlier\n",
    "menangani outlier dapat dilakukan secara keseluruhan dari pesebaran harga penerbangan, maka hal ini dapat dibantu dengan grafik bloxplot dan histogram"
   ]
  },
  {
   "cell_type": "code",
   "execution_count": 63,
   "id": "5dca19e2",
   "metadata": {},
   "outputs": [],
   "source": [
    "# mendefinisikan perintah plot histogram dan boxplot\n",
    "def plot(df,col):\n",
    "    fig, (ax0, ax1) = plt.subplots(2,1,figsize=(10,5), sharex = True)\n",
    "    flierprops = {'marker' :'o', 'markerfacecolor':'white'}\n",
    "    sns.histplot(x = col, data = df, ax = ax0, kde=True)\n",
    "    sns.boxplot(x = df[col], ax = ax1, flierprops = flierprops)"
   ]
  },
  {
   "cell_type": "code",
   "execution_count": 64,
   "id": "ec6925ae",
   "metadata": {
    "scrolled": false
   },
   "outputs": [
    {
     "data": {
      "image/png": "[encoded data removed]",
      "text/plain": [
       "<Figure size 720x360 with 2 Axes>"
      ]
     },
     "metadata": {},
     "output_type": "display_data"
    }
   ],
   "source": [
    "# plot grafik\n",
    "plot(data_train,'Price')\n",
    "plt.suptitle('Histogram dan Boxplot harga pesebaran penerbangan')\n",
    "plt.show()"
   ]
  },
  {
   "cell_type": "code",
   "execution_count": 65,
   "id": "313e139c",
   "metadata": {},
   "outputs": [
    {
     "data": {
      "text/plain": [
       "9"
      ]
     },
     "execution_count": 65,
     "metadata": {},
     "output_type": "execute_result"
    }
   ],
   "source": [
    "# menghitung jumlah data harga diatas 40000\n",
    "train_data['Price'][train_data['Price'] >= 40000].count()"
   ]
  },
  {
   "cell_type": "markdown",
   "id": "1ce2a3c3",
   "metadata": {},
   "source": [
    "Grafik histogram menunjukan bahwa condong ke kanan (positively skewed) yang artinya harga tiket yang sering dikeluarkan lebih rendah daripada nilai tengah harga tiket. Sedangkan dari grafik boxplot terlihat bahwa outlier diatas 40000 sebanyak 9 data. Karena data diatas 40000 hanya sedikit dan bisa mencapai dua kali lipat maka 9 data tersebut akan di transormasikan, pada kasus ini data akan diganti dengan harga median"
   ]
  },
  {
   "cell_type": "code",
   "execution_count": 66,
   "id": "2e0d2615",
   "metadata": {},
   "outputs": [],
   "source": [
    "#data = np.where(kondisi,iya,tidak)\n",
    "data_train['Price'] = np.where(data_train['Price'] >= 40000, data_train['Price'].median(), data_train['Price'])"
   ]
  },
  {
   "cell_type": "code",
   "execution_count": 67,
   "id": "217a1f93",
   "metadata": {
    "scrolled": false
   },
   "outputs": [
    {
     "data": {
      "image/png": "[encoded data removed]",
      "text/plain": [
       "<Figure size 720x360 with 2 Axes>"
      ]
     },
     "metadata": {},
     "output_type": "display_data"
    }
   ],
   "source": [
    "plot(data_train,'Price')\n",
    "plt.suptitle('Histogram dan Boxplot harga pesebaran penerbangan setelah penanganan outlier')\n",
    "plt.show()"
   ]
  },
  {
   "cell_type": "code",
   "execution_count": 68,
   "id": "e1deda4a",
   "metadata": {
    "scrolled": true
   },
   "outputs": [
    {
     "data": {
      "text/plain": [
       "count    10682.000000\n",
       "mean      9046.090994\n",
       "std       4387.489557\n",
       "min       1759.000000\n",
       "25%       5277.000000\n",
       "50%       8372.000000\n",
       "75%      12373.000000\n",
       "max      36983.000000\n",
       "Name: Price, dtype: float64"
      ]
     },
     "execution_count": 68,
     "metadata": {},
     "output_type": "execute_result"
    }
   ],
   "source": [
    "# cek data statistik Price\n",
    "data_train['Price'].describe()"
   ]
  },
  {
   "cell_type": "markdown",
   "id": "0355ca86",
   "metadata": {},
   "source": [
    "### Dependent dan Independent Variable"
   ]
  },
  {
   "cell_type": "markdown",
   "id": "cf4cb0df",
   "metadata": {},
   "source": [
    "Dari analisa, feature harga sangat bergantung pada feature lainnya, maka harga merupakan variabel dependen (terikat) atau variabel target dan feature lainnya merupakan variabel independen (bebas)"
   ]
  },
  {
   "cell_type": "code",
   "execution_count": 69,
   "id": "f1e21b8f",
   "metadata": {},
   "outputs": [],
   "source": [
    "# memisahkan variabel dependen dan independen\n",
    "X = data_train.drop('Price',axis = 1)\n",
    "y = data_train['Price']"
   ]
  },
  {
   "cell_type": "code",
   "execution_count": 70,
   "id": "505805e3",
   "metadata": {
    "scrolled": true
   },
   "outputs": [
    {
     "data": {
      "text/html": [
       "<div>\n",
       "<style scoped>\n",
       "    .dataframe tbody tr th:only-of-type {\n",
       "        vertical-align: middle;\n",
       "    }\n",
       "\n",
       "    .dataframe tbody tr th {\n",
       "        vertical-align: top;\n",
       "    }\n",
       "\n",
       "    .dataframe thead th {\n",
       "        text-align: right;\n",
       "    }\n",
       "</style>\n",
       "<table border=\"1\" class=\"dataframe\">\n",
       "  <thead>\n",
       "    <tr style=\"text-align: right;\">\n",
       "      <th></th>\n",
       "      <th>Air India</th>\n",
       "      <th>GoAir</th>\n",
       "      <th>IndiGo</th>\n",
       "      <th>Jet Airways</th>\n",
       "      <th>Jet Airways Business</th>\n",
       "      <th>Multiple carriers</th>\n",
       "      <th>Multiple carriers Premium economy</th>\n",
       "      <th>SpiceJet</th>\n",
       "      <th>Trujet</th>\n",
       "      <th>Vistara</th>\n",
       "      <th>Vistara Premium economy</th>\n",
       "      <th>Chennai</th>\n",
       "      <th>Delhi</th>\n",
       "      <th>Kolkata</th>\n",
       "      <th>Mumbai</th>\n",
       "      <th>Cochin</th>\n",
       "      <th>Delhi</th>\n",
       "      <th>Hyderabad</th>\n",
       "      <th>Kolkata</th>\n",
       "      <th>New Delhi</th>\n",
       "      <th>Total_Stops</th>\n",
       "      <th>Route_1</th>\n",
       "      <th>Route_2</th>\n",
       "      <th>Route_3</th>\n",
       "      <th>Route_4</th>\n",
       "      <th>Route_5</th>\n",
       "      <th>Route_6</th>\n",
       "      <th>journey_day</th>\n",
       "      <th>journey_month</th>\n",
       "      <th>Dep_Time_hour</th>\n",
       "      <th>Dep_Time_minute</th>\n",
       "      <th>Arrival_Time_hour</th>\n",
       "      <th>Arrival_Time_minute</th>\n",
       "      <th>Duration_hour</th>\n",
       "      <th>Duration_minute</th>\n",
       "    </tr>\n",
       "  </thead>\n",
       "  <tbody>\n",
       "    <tr>\n",
       "      <th>0</th>\n",
       "      <td>0</td>\n",
       "      <td>0</td>\n",
       "      <td>1</td>\n",
       "      <td>0</td>\n",
       "      <td>0</td>\n",
       "      <td>0</td>\n",
       "      <td>0</td>\n",
       "      <td>0</td>\n",
       "      <td>0</td>\n",
       "      <td>0</td>\n",
       "      <td>0</td>\n",
       "      <td>0</td>\n",
       "      <td>0</td>\n",
       "      <td>0</td>\n",
       "      <td>0</td>\n",
       "      <td>0</td>\n",
       "      <td>0</td>\n",
       "      <td>0</td>\n",
       "      <td>0</td>\n",
       "      <td>1</td>\n",
       "      <td>0</td>\n",
       "      <td>0</td>\n",
       "      <td>10</td>\n",
       "      <td>21</td>\n",
       "      <td>10</td>\n",
       "      <td>4</td>\n",
       "      <td>1</td>\n",
       "      <td>24</td>\n",
       "      <td>3</td>\n",
       "      <td>22</td>\n",
       "      <td>20</td>\n",
       "      <td>1</td>\n",
       "      <td>10</td>\n",
       "      <td>2</td>\n",
       "      <td>50</td>\n",
       "    </tr>\n",
       "    <tr>\n",
       "      <th>1</th>\n",
       "      <td>1</td>\n",
       "      <td>0</td>\n",
       "      <td>0</td>\n",
       "      <td>0</td>\n",
       "      <td>0</td>\n",
       "      <td>0</td>\n",
       "      <td>0</td>\n",
       "      <td>0</td>\n",
       "      <td>0</td>\n",
       "      <td>0</td>\n",
       "      <td>0</td>\n",
       "      <td>0</td>\n",
       "      <td>0</td>\n",
       "      <td>1</td>\n",
       "      <td>0</td>\n",
       "      <td>0</td>\n",
       "      <td>0</td>\n",
       "      <td>0</td>\n",
       "      <td>0</td>\n",
       "      <td>0</td>\n",
       "      <td>2</td>\n",
       "      <td>2</td>\n",
       "      <td>20</td>\n",
       "      <td>1</td>\n",
       "      <td>3</td>\n",
       "      <td>4</td>\n",
       "      <td>1</td>\n",
       "      <td>5</td>\n",
       "      <td>1</td>\n",
       "      <td>5</td>\n",
       "      <td>50</td>\n",
       "      <td>13</td>\n",
       "      <td>15</td>\n",
       "      <td>7</td>\n",
       "      <td>25</td>\n",
       "    </tr>\n",
       "    <tr>\n",
       "      <th>2</th>\n",
       "      <td>0</td>\n",
       "      <td>0</td>\n",
       "      <td>0</td>\n",
       "      <td>1</td>\n",
       "      <td>0</td>\n",
       "      <td>0</td>\n",
       "      <td>0</td>\n",
       "      <td>0</td>\n",
       "      <td>0</td>\n",
       "      <td>0</td>\n",
       "      <td>0</td>\n",
       "      <td>0</td>\n",
       "      <td>1</td>\n",
       "      <td>0</td>\n",
       "      <td>0</td>\n",
       "      <td>1</td>\n",
       "      <td>0</td>\n",
       "      <td>0</td>\n",
       "      <td>0</td>\n",
       "      <td>0</td>\n",
       "      <td>2</td>\n",
       "      <td>3</td>\n",
       "      <td>27</td>\n",
       "      <td>4</td>\n",
       "      <td>5</td>\n",
       "      <td>4</td>\n",
       "      <td>1</td>\n",
       "      <td>6</td>\n",
       "      <td>9</td>\n",
       "      <td>9</td>\n",
       "      <td>25</td>\n",
       "      <td>4</td>\n",
       "      <td>25</td>\n",
       "      <td>19</td>\n",
       "      <td>0</td>\n",
       "    </tr>\n",
       "    <tr>\n",
       "      <th>3</th>\n",
       "      <td>0</td>\n",
       "      <td>0</td>\n",
       "      <td>1</td>\n",
       "      <td>0</td>\n",
       "      <td>0</td>\n",
       "      <td>0</td>\n",
       "      <td>0</td>\n",
       "      <td>0</td>\n",
       "      <td>0</td>\n",
       "      <td>0</td>\n",
       "      <td>0</td>\n",
       "      <td>0</td>\n",
       "      <td>0</td>\n",
       "      <td>1</td>\n",
       "      <td>0</td>\n",
       "      <td>0</td>\n",
       "      <td>0</td>\n",
       "      <td>0</td>\n",
       "      <td>0</td>\n",
       "      <td>0</td>\n",
       "      <td>1</td>\n",
       "      <td>2</td>\n",
       "      <td>29</td>\n",
       "      <td>3</td>\n",
       "      <td>10</td>\n",
       "      <td>4</td>\n",
       "      <td>1</td>\n",
       "      <td>5</td>\n",
       "      <td>12</td>\n",
       "      <td>18</td>\n",
       "      <td>5</td>\n",
       "      <td>23</td>\n",
       "      <td>30</td>\n",
       "      <td>5</td>\n",
       "      <td>25</td>\n",
       "    </tr>\n",
       "    <tr>\n",
       "      <th>4</th>\n",
       "      <td>0</td>\n",
       "      <td>0</td>\n",
       "      <td>1</td>\n",
       "      <td>0</td>\n",
       "      <td>0</td>\n",
       "      <td>0</td>\n",
       "      <td>0</td>\n",
       "      <td>0</td>\n",
       "      <td>0</td>\n",
       "      <td>0</td>\n",
       "      <td>0</td>\n",
       "      <td>0</td>\n",
       "      <td>0</td>\n",
       "      <td>0</td>\n",
       "      <td>0</td>\n",
       "      <td>0</td>\n",
       "      <td>0</td>\n",
       "      <td>0</td>\n",
       "      <td>0</td>\n",
       "      <td>1</td>\n",
       "      <td>1</td>\n",
       "      <td>0</td>\n",
       "      <td>29</td>\n",
       "      <td>7</td>\n",
       "      <td>10</td>\n",
       "      <td>4</td>\n",
       "      <td>1</td>\n",
       "      <td>3</td>\n",
       "      <td>1</td>\n",
       "      <td>16</td>\n",
       "      <td>50</td>\n",
       "      <td>21</td>\n",
       "      <td>35</td>\n",
       "      <td>4</td>\n",
       "      <td>45</td>\n",
       "    </tr>\n",
       "  </tbody>\n",
       "</table>\n",
       "</div>"
      ],
      "text/plain": [
       "   Air India  GoAir  IndiGo  Jet Airways  Jet Airways Business  \\\n",
       "0          0      0       1            0                     0   \n",
       "1          1      0       0            0                     0   \n",
       "2          0      0       0            1                     0   \n",
       "3          0      0       1            0                     0   \n",
       "4          0      0       1            0                     0   \n",
       "\n",
       "   Multiple carriers  Multiple carriers Premium economy  SpiceJet  Trujet  \\\n",
       "0                  0                                  0         0       0   \n",
       "1                  0                                  0         0       0   \n",
       "2                  0                                  0         0       0   \n",
       "3                  0                                  0         0       0   \n",
       "4                  0                                  0         0       0   \n",
       "\n",
       "   Vistara  Vistara Premium economy  Chennai  Delhi  Kolkata  Mumbai  Cochin  \\\n",
       "0        0                        0        0      0        0       0       0   \n",
       "1        0                        0        0      0        1       0       0   \n",
       "2        0                        0        0      1        0       0       1   \n",
       "3        0                        0        0      0        1       0       0   \n",
       "4        0                        0        0      0        0       0       0   \n",
       "\n",
       "   Delhi  Hyderabad  Kolkata  New Delhi  Total_Stops  Route_1  Route_2  \\\n",
       "0      0          0        0          1            0        0       10   \n",
       "1      0          0        0          0            2        2       20   \n",
       "2      0          0        0          0            2        3       27   \n",
       "3      0          0        0          0            1        2       29   \n",
       "4      0          0        0          1            1        0       29   \n",
       "\n",
       "   Route_3  Route_4  Route_5  Route_6  journey_day  journey_month  \\\n",
       "0       21       10        4        1           24              3   \n",
       "1        1        3        4        1            5              1   \n",
       "2        4        5        4        1            6              9   \n",
       "3        3       10        4        1            5             12   \n",
       "4        7       10        4        1            3              1   \n",
       "\n",
       "   Dep_Time_hour  Dep_Time_minute  Arrival_Time_hour  Arrival_Time_minute  \\\n",
       "0             22               20                  1                   10   \n",
       "1              5               50                 13                   15   \n",
       "2              9               25                  4                   25   \n",
       "3             18                5                 23                   30   \n",
       "4             16               50                 21                   35   \n",
       "\n",
       "   Duration_hour  Duration_minute  \n",
       "0              2               50  \n",
       "1              7               25  \n",
       "2             19                0  \n",
       "3              5               25  \n",
       "4              4               45  "
      ]
     },
     "execution_count": 70,
     "metadata": {},
     "output_type": "execute_result"
    }
   ],
   "source": [
    "X.head()"
   ]
  },
  {
   "cell_type": "code",
   "execution_count": 71,
   "id": "09ae14f9",
   "metadata": {
    "scrolled": false
   },
   "outputs": [
    {
     "data": {
      "text/plain": [
       "0         3897.0\n",
       "1         7662.0\n",
       "2        13882.0\n",
       "3         6218.0\n",
       "4        13302.0\n",
       "          ...   \n",
       "10678     4107.0\n",
       "10679     4145.0\n",
       "10680     7229.0\n",
       "10681    12648.0\n",
       "10682    11753.0\n",
       "Name: Price, Length: 10682, dtype: float64"
      ]
     },
     "execution_count": 71,
     "metadata": {},
     "output_type": "execute_result"
    }
   ],
   "source": [
    "y"
   ]
  },
  {
   "cell_type": "markdown",
   "id": "312c19b9",
   "metadata": {},
   "source": [
    "### Feature Selection\n",
    "Seleksi fitur digunakan untuk mengetahui feature terabik yang paling berkontribusi dan memiliki hubungan dengan variabel target. dari informasi tersebut dapat digunakan Untuk memilih fitur penting dan mengurangi dimensi feature\n"
   ]
  },
  {
   "cell_type": "code",
   "execution_count": 72,
   "id": "76bcec43",
   "metadata": {},
   "outputs": [],
   "source": [
    "# import feature selection\n",
    "from sklearn.feature_selection import mutual_info_classif"
   ]
  },
  {
   "cell_type": "code",
   "execution_count": 73,
   "id": "9452956e",
   "metadata": {
    "scrolled": true
   },
   "outputs": [
    {
     "data": {
      "text/html": [
       "<div>\n",
       "<style scoped>\n",
       "    .dataframe tbody tr th:only-of-type {\n",
       "        vertical-align: middle;\n",
       "    }\n",
       "\n",
       "    .dataframe tbody tr th {\n",
       "        vertical-align: top;\n",
       "    }\n",
       "\n",
       "    .dataframe thead th {\n",
       "        text-align: right;\n",
       "    }\n",
       "</style>\n",
       "<table border=\"1\" class=\"dataframe\">\n",
       "  <thead>\n",
       "    <tr style=\"text-align: right;\">\n",
       "      <th></th>\n",
       "      <th>Importance</th>\n",
       "    </tr>\n",
       "  </thead>\n",
       "  <tbody>\n",
       "    <tr>\n",
       "      <th>Route_2</th>\n",
       "      <td>2.441463</td>\n",
       "    </tr>\n",
       "    <tr>\n",
       "      <th>Route_3</th>\n",
       "      <td>2.185677</td>\n",
       "    </tr>\n",
       "    <tr>\n",
       "      <th>Total_Stops</th>\n",
       "      <td>2.160462</td>\n",
       "    </tr>\n",
       "    <tr>\n",
       "      <th>Route_1</th>\n",
       "      <td>2.045387</td>\n",
       "    </tr>\n",
       "    <tr>\n",
       "      <th>Route_6</th>\n",
       "      <td>1.847804</td>\n",
       "    </tr>\n",
       "    <tr>\n",
       "      <th>Arrival_Time_hour</th>\n",
       "      <td>1.830993</td>\n",
       "    </tr>\n",
       "    <tr>\n",
       "      <th>Duration_hour</th>\n",
       "      <td>1.788849</td>\n",
       "    </tr>\n",
       "    <tr>\n",
       "      <th>Route_5</th>\n",
       "      <td>1.750908</td>\n",
       "    </tr>\n",
       "    <tr>\n",
       "      <th>Cochin</th>\n",
       "      <td>1.573093</td>\n",
       "    </tr>\n",
       "    <tr>\n",
       "      <th>Delhi</th>\n",
       "      <td>1.559659</td>\n",
       "    </tr>\n",
       "    <tr>\n",
       "      <th>Arrival_Time_minute</th>\n",
       "      <td>1.550620</td>\n",
       "    </tr>\n",
       "    <tr>\n",
       "      <th>Dep_Time_hour</th>\n",
       "      <td>1.456908</td>\n",
       "    </tr>\n",
       "    <tr>\n",
       "      <th>Dep_Time_minute</th>\n",
       "      <td>1.228338</td>\n",
       "    </tr>\n",
       "    <tr>\n",
       "      <th>journey_day</th>\n",
       "      <td>1.111786</td>\n",
       "    </tr>\n",
       "    <tr>\n",
       "      <th>Route_4</th>\n",
       "      <td>1.103563</td>\n",
       "    </tr>\n",
       "    <tr>\n",
       "      <th>Duration_minute</th>\n",
       "      <td>1.074052</td>\n",
       "    </tr>\n",
       "    <tr>\n",
       "      <th>Jet Airways</th>\n",
       "      <td>0.916010</td>\n",
       "    </tr>\n",
       "    <tr>\n",
       "      <th>Kolkata</th>\n",
       "      <td>0.877729</td>\n",
       "    </tr>\n",
       "    <tr>\n",
       "      <th>journey_month</th>\n",
       "      <td>0.865087</td>\n",
       "    </tr>\n",
       "    <tr>\n",
       "      <th>Air India</th>\n",
       "      <td>0.760613</td>\n",
       "    </tr>\n",
       "    <tr>\n",
       "      <th>IndiGo</th>\n",
       "      <td>0.678673</td>\n",
       "    </tr>\n",
       "    <tr>\n",
       "      <th>Multiple carriers</th>\n",
       "      <td>0.560716</td>\n",
       "    </tr>\n",
       "    <tr>\n",
       "      <th>Delhi</th>\n",
       "      <td>0.395491</td>\n",
       "    </tr>\n",
       "    <tr>\n",
       "      <th>New Delhi</th>\n",
       "      <td>0.370234</td>\n",
       "    </tr>\n",
       "    <tr>\n",
       "      <th>SpiceJet</th>\n",
       "      <td>0.323759</td>\n",
       "    </tr>\n",
       "    <tr>\n",
       "      <th>Mumbai</th>\n",
       "      <td>0.288855</td>\n",
       "    </tr>\n",
       "    <tr>\n",
       "      <th>Hyderabad</th>\n",
       "      <td>0.281371</td>\n",
       "    </tr>\n",
       "    <tr>\n",
       "      <th>Vistara</th>\n",
       "      <td>0.227200</td>\n",
       "    </tr>\n",
       "    <tr>\n",
       "      <th>Chennai</th>\n",
       "      <td>0.165463</td>\n",
       "    </tr>\n",
       "    <tr>\n",
       "      <th>Kolkata</th>\n",
       "      <td>0.164425</td>\n",
       "    </tr>\n",
       "    <tr>\n",
       "      <th>GoAir</th>\n",
       "      <td>0.085300</td>\n",
       "    </tr>\n",
       "    <tr>\n",
       "      <th>Jet Airways Business</th>\n",
       "      <td>0.022794</td>\n",
       "    </tr>\n",
       "    <tr>\n",
       "      <th>Vistara Premium economy</th>\n",
       "      <td>0.014391</td>\n",
       "    </tr>\n",
       "    <tr>\n",
       "      <th>Multiple carriers Premium economy</th>\n",
       "      <td>0.006698</td>\n",
       "    </tr>\n",
       "    <tr>\n",
       "      <th>Trujet</th>\n",
       "      <td>0.000000</td>\n",
       "    </tr>\n",
       "  </tbody>\n",
       "</table>\n",
       "</div>"
      ],
      "text/plain": [
       "                                   Importance\n",
       "Route_2                              2.441463\n",
       "Route_3                              2.185677\n",
       "Total_Stops                          2.160462\n",
       "Route_1                              2.045387\n",
       "Route_6                              1.847804\n",
       "Arrival_Time_hour                    1.830993\n",
       "Duration_hour                        1.788849\n",
       "Route_5                              1.750908\n",
       "Cochin                               1.573093\n",
       "Delhi                                1.559659\n",
       "Arrival_Time_minute                  1.550620\n",
       "Dep_Time_hour                        1.456908\n",
       "Dep_Time_minute                      1.228338\n",
       "journey_day                          1.111786\n",
       "Route_4                              1.103563\n",
       "Duration_minute                      1.074052\n",
       "Jet Airways                          0.916010\n",
       "Kolkata                              0.877729\n",
       "journey_month                        0.865087\n",
       "Air India                            0.760613\n",
       "IndiGo                               0.678673\n",
       "Multiple carriers                    0.560716\n",
       "Delhi                                0.395491\n",
       "New Delhi                            0.370234\n",
       "SpiceJet                             0.323759\n",
       "Mumbai                               0.288855\n",
       "Hyderabad                            0.281371\n",
       "Vistara                              0.227200\n",
       "Chennai                              0.165463\n",
       "Kolkata                              0.164425\n",
       "GoAir                                0.085300\n",
       "Jet Airways Business                 0.022794\n",
       "Vistara Premium economy              0.014391\n",
       "Multiple carriers Premium economy    0.006698\n",
       "Trujet                               0.000000"
      ]
     },
     "execution_count": 73,
     "metadata": {},
     "output_type": "execute_result"
    }
   ],
   "source": [
    "# membuat data importance dari setiap variabel bebebas terhadap variabel terikat\n",
    "# diurutkan dari yang paling penting\n",
    "imp = pd.DataFrame(mutual_info_classif(X,y),index = X.columns)\n",
    "imp.columns = ['Importance']\n",
    "imp.sort_values(by='Importance',ascending=False)"
   ]
  },
  {
   "cell_type": "markdown",
   "id": "28cf8c1b",
   "metadata": {},
   "source": [
    "hasil menunujukan 3 feature yang paling berkontribusi pada harga tiket yaitu 'Route_2', 'Route_3' dan 'Total_Stops'"
   ]
  },
  {
   "cell_type": "markdown",
   "id": "9623159b",
   "metadata": {},
   "source": [
    "# Modeling dan Evaluation"
   ]
  },
  {
   "cell_type": "markdown",
   "id": "74d4ffb6",
   "metadata": {},
   "source": [
    "## Modeling\n",
    "Dalam modeling, tahap ini menerapkan algoritma machine learning pada data. Sebelumnya, data perlu di urai menjadi train dan tes, yang dimana data train digunakan untuk melatih model dan data tes untuk menguji model. "
   ]
  },
  {
   "cell_type": "code",
   "execution_count": 74,
   "id": "7daee090",
   "metadata": {},
   "outputs": [],
   "source": [
    "# import train_test_split\n",
    "from sklearn.model_selection import train_test_split"
   ]
  },
  {
   "cell_type": "code",
   "execution_count": 75,
   "id": "5cda13c3",
   "metadata": {},
   "outputs": [],
   "source": [
    "# urai data menjadi train dan test\n",
    "X_train, X_test, y_train, y_test = train_test_split(X,y,test_size=0.2)"
   ]
  },
  {
   "cell_type": "markdown",
   "id": "dbd22b09",
   "metadata": {},
   "source": [
    "Pada kasus ini akan diterapkan beberapa algoritma, sehingga dibuat fungsi otomatisasi untuk mempermudah pemrosesan model dan evaluasi"
   ]
  },
  {
   "cell_type": "code",
   "execution_count": 76,
   "id": "8929d517",
   "metadata": {},
   "outputs": [],
   "source": [
    "from sklearn import metrics\n",
    "def predict(ml_model):\n",
    "    \"\"\"\n",
    "    - fungsi menerima algoritma machine learning\n",
    "    - menghasilkan nilai training dan prediksi\n",
    "    - menghasilkan nilai R2, MAE, MSE, RMSE\n",
    "    - memplot distribusi hasil prediksi\n",
    "    \"\"\"\n",
    "    model = ml_model.fit(X_train,y_train)\n",
    "    print('Training Score: {}'.format(model.score(X_train,y_train)))\n",
    "    prediction = model.predict(X_test)\n",
    "    print('Prediction: {}'.format(prediction))\n",
    "    print('\\n')\n",
    "    r2_score = metrics.r2_score(y_test,prediction)\n",
    "    print('r2 score: {}'.format(r2_score))\n",
    "    print('MAE: ',metrics.mean_absolute_error(y_test,prediction))\n",
    "    print('MSE: ',metrics.mean_squared_error(y_test,prediction))\n",
    "    print('RMSE: ',np.sqrt(metrics.mean_absolute_error(y_test,prediction)))\n",
    "    sns.histplot(y_test-prediction, kde = True, stat=\"density\")"
   ]
  },
  {
   "cell_type": "markdown",
   "id": "f125a872",
   "metadata": {},
   "source": [
    "## Evaluation"
   ]
  },
  {
   "cell_type": "markdown",
   "id": "d0042c01",
   "metadata": {},
   "source": [
    "### Random Forest Regression"
   ]
  },
  {
   "cell_type": "code",
   "execution_count": 77,
   "id": "a1f9fc20",
   "metadata": {},
   "outputs": [],
   "source": [
    "from sklearn.ensemble import RandomForestRegressor"
   ]
  },
  {
   "cell_type": "code",
   "execution_count": 78,
   "id": "b2a2fbc5",
   "metadata": {},
   "outputs": [
    {
     "name": "stdout",
     "output_type": "stream",
     "text": [
      "Training Score: 0.9543479830685422\n",
      "Prediction: [11899.22        3947.48633333 10809.84       ...  9148.53\n",
      " 13447.55        5597.02      ]\n",
      "\n",
      "\n",
      "r2 score: 0.8170272634758347\n",
      "MAE:  1159.4840775874932\n",
      "MSE:  3506054.9585719756\n",
      "RMSE:  34.05119788770276\n"
     ]
    },
    {
     "data": {
      "image/png": "[encoded data removed]",
      "text/plain": [
       "<Figure size 432x288 with 1 Axes>"
      ]
     },
     "metadata": {},
     "output_type": "display_data"
    }
   ],
   "source": [
    "predict(RandomForestRegressor())"
   ]
  },
  {
   "cell_type": "markdown",
   "id": "9f89cbe7",
   "metadata": {},
   "source": [
    "Dengan algoritma random forest regression score training didapatkan sebesar 95.69%. test akurasi model ditunjukan oleh R2 maka didapari sebesar sekitar 80.67%. Titik nol dalam grafik menunjukan ketepatan model dalam memprediksi harga. grafik memiliki garis KDE dengan puncak disekitar nol sehingga sebagian besar prediksi sudah tepat."
   ]
  },
  {
   "cell_type": "markdown",
   "id": "bc0d348d",
   "metadata": {},
   "source": [
    "### Linear Regression"
   ]
  },
  {
   "cell_type": "code",
   "execution_count": 79,
   "id": "b75ad4de",
   "metadata": {
    "scrolled": true
   },
   "outputs": [
    {
     "name": "stdout",
     "output_type": "stream",
     "text": [
      "Training Score: 0.6136628983388792\n",
      "Prediction: [11237.49396339  4030.53720056 11734.18741325 ...  9745.45847138\n",
      " 10955.67984909  6542.61087686]\n",
      "\n",
      "\n",
      "r2 score: 0.6212818948844158\n",
      "MAE:  1910.7808350125306\n",
      "MSE:  7256854.302805451\n",
      "RMSE:  43.71247916799653\n"
     ]
    },
    {
     "data": {
      "image/png": "[encoded data removed]",
      "text/plain": [
       "<Figure size 432x288 with 1 Axes>"
      ]
     },
     "metadata": {},
     "output_type": "display_data"
    }
   ],
   "source": [
    "from sklearn.linear_model import LinearRegression\n",
    "predict(LinearRegression())"
   ]
  },
  {
   "cell_type": "markdown",
   "id": "5e11bb7e",
   "metadata": {},
   "source": [
    "### Decision Tree Regressor"
   ]
  },
  {
   "cell_type": "code",
   "execution_count": 80,
   "id": "aada5771",
   "metadata": {},
   "outputs": [
    {
     "name": "stdout",
     "output_type": "stream",
     "text": [
      "Training Score: 0.967826910385165\n",
      "Prediction: [12192.  3873. 10161. ...  8610. 14231.  5298.]\n",
      "\n",
      "\n",
      "r2 score: 0.7319595916423287\n",
      "MAE:  1327.1434877554204\n",
      "MSE:  5136089.784042531\n",
      "RMSE:  36.42998061700583\n"
     ]
    },
    {
     "data": {
      "image/png": "[encoded data removed]",
      "text/plain": [
       "<Figure size 432x288 with 1 Axes>"
      ]
     },
     "metadata": {},
     "output_type": "display_data"
    }
   ],
   "source": [
    "from sklearn.tree import DecisionTreeRegressor\n",
    "predict(DecisionTreeRegressor())"
   ]
  },
  {
   "cell_type": "markdown",
   "id": "c30987fc",
   "metadata": {},
   "source": [
    "### KNN Regressor"
   ]
  },
  {
   "cell_type": "code",
   "execution_count": 81,
   "id": "c0b79806",
   "metadata": {
    "scrolled": true
   },
   "outputs": [
    {
     "name": "stdout",
     "output_type": "stream",
     "text": [
      "Training Score: 0.7741984489888272\n",
      "Prediction: [10211.2  3914.   9317.4 ...  9180.6  9996.2  5953.6]\n",
      "\n",
      "\n",
      "r2 score: 0.6583409055530997\n",
      "MAE:  1732.9913897987833\n",
      "MSE:  6546743.4382966785\n",
      "RMSE:  41.62921317775275\n"
     ]
    },
    {
     "data": {
      "image/png": "[encoded data removed]",
      "text/plain": [
       "<Figure size 432x288 with 1 Axes>"
      ]
     },
     "metadata": {},
     "output_type": "display_data"
    }
   ],
   "source": [
    "from sklearn.neighbors import KNeighborsRegressor\n",
    "predict(KNeighborsRegressor())"
   ]
  },
  {
   "cell_type": "markdown",
   "id": "73695eca",
   "metadata": {},
   "source": [
    "### Cross Validation\n",
    "Dari beragam pengujian model, algoritma Random Forest Regression memiliki nilai akurasi yang paling baik. Tetapi hasil tersebut masih bisa ditingkatkan karena model belum memiliki modifikasi hyperparameter. Setiap alogritma memiliki hyperparameter sendiri, dan bisa dilakukan penyetelan beberapa parameter tersebut. Hasil akurasi dari berbagai penyetelan dapat saling dibandingkan atau cross validation dan diambil parameter terbaik. Dalam kasus in teknik cross validation menggunakan RandomizedSearchCV"
   ]
  },
  {
   "cell_type": "code",
   "execution_count": 82,
   "id": "41bfc73e",
   "metadata": {},
   "outputs": [
    {
     "name": "stdout",
     "output_type": "stream",
     "text": [
      "bootstrap\n",
      "ccp_alpha\n",
      "criterion\n",
      "max_depth\n",
      "max_features\n",
      "max_leaf_nodes\n",
      "max_samples\n",
      "min_impurity_decrease\n",
      "min_impurity_split\n",
      "min_samples_leaf\n",
      "min_samples_split\n",
      "min_weight_fraction_leaf\n",
      "n_estimators\n",
      "n_jobs\n",
      "oob_score\n",
      "random_state\n",
      "verbose\n",
      "warm_start\n"
     ]
    }
   ],
   "source": [
    "# cek paramter RandomForestRegressor (atau bisa dengan Shift+Tab di RandomForestRegressor)\n",
    "reg = RandomForestRegressor()\n",
    "for parameter in reg.get_params():\n",
    "    print(parameter)"
   ]
  },
  {
   "cell_type": "code",
   "execution_count": 83,
   "id": "89b7b541",
   "metadata": {},
   "outputs": [],
   "source": [
    "# import library cros validation\n",
    "from sklearn.model_selection import RandomizedSearchCV"
   ]
  },
  {
   "cell_type": "code",
   "execution_count": 84,
   "id": "eab2dada",
   "metadata": {},
   "outputs": [],
   "source": [
    "# jumlah tree di random forrest\n",
    "n_estimators=[int(x) for x in np.linspace(100,1000,10)]\n",
    "\n",
    "# tipe jumlah fitur setiap split\n",
    "max_features=['auto','sqrt']\n",
    "\n",
    "# maksimal level setiap tree\n",
    "max_depth=[int(x) for x in np.linspace(5,30,6)]\n",
    "\n",
    "# minimal jumlah sampel untuk mengurai simpul/node\n",
    "min_samples_split=[5,10,15,20,25,100]"
   ]
  },
  {
   "cell_type": "code",
   "execution_count": 94,
   "id": "539c14d6",
   "metadata": {},
   "outputs": [],
   "source": [
    "# menggabungkan parameter menjadi satu\n",
    "random_grid={\n",
    "    'n_estimators':n_estimators,\n",
    "    'max_features':max_features,\n",
    "    'max_depth':max_depth,\n",
    "    'min_samples_split':min_samples_split\n",
    "}"
   ]
  },
  {
   "cell_type": "code",
   "execution_count": 95,
   "id": "b10a9184",
   "metadata": {},
   "outputs": [
    {
     "data": {
      "text/plain": [
       "{'n_estimators': [100, 200, 300, 400, 500, 600, 700, 800, 900, 1000],\n",
       " 'max_features': ['auto', 'sqrt'],\n",
       " 'max_depth': [5, 10, 15, 20, 25, 30],\n",
       " 'min_samples_split': [5, 10, 15, 20, 25, 100]}"
      ]
     },
     "execution_count": 95,
     "metadata": {},
     "output_type": "execute_result"
    }
   ],
   "source": [
    "random_grid"
   ]
  },
  {
   "cell_type": "markdown",
   "id": "7c17bc89",
   "metadata": {},
   "source": [
    "Pada kasus ini, paramater yang dituning 'n_estimators', 'max_features', 'max_depth', dan 'min_samples_split' dalam array list nilai yang duji, lalu dijadikan satu dalam dict random_grid"
   ]
  },
  {
   "cell_type": "code",
   "execution_count": 96,
   "id": "48f7a55e",
   "metadata": {},
   "outputs": [],
   "source": [
    "# masukan model yang akan di tuning\n",
    "est_rf=RandomForestRegressor()"
   ]
  },
  {
   "cell_type": "code",
   "execution_count": 97,
   "id": "c56be1ab",
   "metadata": {},
   "outputs": [],
   "source": [
    "# tuning hyperparameter model\n",
    "cv_rfrandom=RandomizedSearchCV(estimator=est_rf,\n",
    "                               param_distributions=random_grid,\n",
    "                               cv=5,\n",
    "                               verbose=1,\n",
    "                               n_jobs=-1)"
   ]
  },
  {
   "cell_type": "code",
   "execution_count": 98,
   "id": "8b2d95a4",
   "metadata": {
    "scrolled": true
   },
   "outputs": [
    {
     "name": "stdout",
     "output_type": "stream",
     "text": [
      "Fitting 5 folds for each of 10 candidates, totalling 50 fits\n"
     ]
    },
    {
     "data": {
      "text/plain": [
       "RandomizedSearchCV(cv=5, estimator=RandomForestRegressor(), n_jobs=-1,\n",
       "                   param_distributions={'max_depth': [5, 10, 15, 20, 25, 30],\n",
       "                                        'max_features': ['auto', 'sqrt'],\n",
       "                                        'min_samples_split': [5, 10, 15, 20, 25,\n",
       "                                                              100],\n",
       "                                        'n_estimators': [100, 200, 300, 400,\n",
       "                                                         500, 600, 700, 800,\n",
       "                                                         900, 1000]},\n",
       "                   verbose=1)"
      ]
     },
     "execution_count": 98,
     "metadata": {},
     "output_type": "execute_result"
    }
   ],
   "source": [
    "# train model yang sudah dituning\n",
    "cv_rfrandom.fit(X_train,y_train)"
   ]
  },
  {
   "cell_type": "code",
   "execution_count": 99,
   "id": "d096c840",
   "metadata": {},
   "outputs": [
    {
     "data": {
      "text/plain": [
       "{'n_estimators': 400,\n",
       " 'min_samples_split': 15,\n",
       " 'max_features': 'auto',\n",
       " 'max_depth': 30}"
      ]
     },
     "execution_count": 99,
     "metadata": {},
     "output_type": "execute_result"
    }
   ],
   "source": [
    "# menampilkan nilai parameter terbaik\n",
    "cv_rfrandom.best_params_"
   ]
  },
  {
   "cell_type": "markdown",
   "id": "5138816b",
   "metadata": {},
   "source": [
    "dari hasil cross validation didapatkan nilai parameter terbaik ditunjukan pada dict diatas, dari model akan memilih langsung nilai parameter terbaik. Lalu dapat diuji dengan data test dan bandingkan dengan nilai sebelum tuning"
   ]
  },
  {
   "cell_type": "code",
   "execution_count": 100,
   "id": "befdb092",
   "metadata": {},
   "outputs": [],
   "source": [
    "prediction=cv_rfrandom.predict(X_test)"
   ]
  },
  {
   "cell_type": "code",
   "execution_count": 105,
   "id": "5ba30cc1",
   "metadata": {},
   "outputs": [
    {
     "data": {
      "image/png": "[encoded data removed]",
      "text/plain": [
       "<Figure size 432x288 with 1 Axes>"
      ]
     },
     "metadata": {},
     "output_type": "display_data"
    }
   ],
   "source": [
    "sns.histplot(y_test-prediction, kde = True, stat=\"density\")\n",
    "plt.show()"
   ]
  },
  {
   "cell_type": "code",
   "execution_count": 102,
   "id": "aa031201",
   "metadata": {
    "scrolled": false
   },
   "outputs": [
    {
     "data": {
      "text/plain": [
       "0.8445926125136669"
      ]
     },
     "execution_count": 102,
     "metadata": {},
     "output_type": "execute_result"
    }
   ],
   "source": [
    "metrics.r2_score(y_test,prediction)"
   ]
  },
  {
   "cell_type": "markdown",
   "id": "693597d9",
   "metadata": {},
   "source": [
    "Dari model sebelum tuning didapatkan nilai akurasi (R2) sebesar 0.81 dan setelah tuning dan cross validation hasil akurasi sebesar 0.84. hasil akurasi menunjukan lebih besar dibandingkan setelah tuning, hasil dapat bervariatif sesuai dengan model dan pengujian tuning masing-masing. Bisa jadi pada kasus tertentu suatu model lain memiliki nilai akurasi lebih tinggi ketika menggunakan deafult parameter"
   ]
  },
  {
   "cell_type": "markdown",
   "id": "29c8baf8",
   "metadata": {},
   "source": [
    "# Deployment\n",
    "ketika sudah melakukan tuning dan mendapat hasil yang diharapkan, kita bisa mendeploy atau menyimpan model sehingga dapat digunakan ulang model tersebut."
   ]
  },
  {
   "cell_type": "code",
   "execution_count": 107,
   "id": "b66cf851",
   "metadata": {},
   "outputs": [],
   "source": [
    "# imoort library deployment\n",
    "import pickle"
   ]
  },
  {
   "cell_type": "code",
   "execution_count": 117,
   "id": "471a062f",
   "metadata": {},
   "outputs": [],
   "source": [
    "# membuat file .pkl dan simpan model ke file .pkl\n",
    "with open('phtp_rf.pkl','wb') as file:\n",
    "    pickle.dump(cv_rfrandom,file)"
   ]
  },
  {
   "cell_type": "markdown",
   "id": "6cfa48ed",
   "metadata": {},
   "source": [
    "setelah menyimpan model, kita dapat membuka model tersebut dan menggunakan model kembali untuk memprediksi harga."
   ]
  },
  {
   "cell_type": "code",
   "execution_count": 118,
   "id": "504f11c1",
   "metadata": {},
   "outputs": [],
   "source": [
    "# membuka model yang telah disimpan\n",
    "model=open('phtp_rf.pkl','rb')\n",
    "forest=pickle.load(model)"
   ]
  },
  {
   "cell_type": "code",
   "execution_count": 119,
   "id": "59a59dee",
   "metadata": {},
   "outputs": [],
   "source": [
    "# prediksi harga tiket\n",
    "y_prediction=forest.predict(X_test)"
   ]
  },
  {
   "cell_type": "code",
   "execution_count": 120,
   "id": "db7468df",
   "metadata": {},
   "outputs": [
    {
     "data": {
      "text/plain": [
       "array([11960.69509555,  3966.63730032, 11794.61892032, ...,\n",
       "        8932.50939449, 12660.27296425,  5732.87077561])"
      ]
     },
     "execution_count": 120,
     "metadata": {},
     "output_type": "execute_result"
    }
   ],
   "source": [
    "# harga tiket hasil prediksi\n",
    "y_prediction"
   ]
  },
  {
   "cell_type": "code",
   "execution_count": 122,
   "id": "d26c1189",
   "metadata": {},
   "outputs": [
    {
     "data": {
      "text/plain": [
       "0.8445926125136669"
      ]
     },
     "execution_count": 122,
     "metadata": {},
     "output_type": "execute_result"
    }
   ],
   "source": [
    "# akurasi prediksi\n",
    "metrics.r2_score(y_test,y_prediction)"
   ]
  }
 ],
 "metadata": {
  "kernelspec": {
   "display_name": "Python 3",
   "language": "python",
   "name": "python3"
  },
  "language_info": {
   "codemirror_mode": {
    "name": "ipython",
    "version": 3
   },
   "file_extension": ".py",
   "mimetype": "text/x-python",
   "name": "python",
   "nbconvert_exporter": "python",
   "pygments_lexer": "ipython3",
   "version": "3.8.8"
  }
 },
 "nbformat": 4,
 "nbformat_minor": 5
}
